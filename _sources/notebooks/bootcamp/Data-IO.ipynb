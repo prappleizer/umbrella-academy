{
 "cells": [
  {
   "cell_type": "markdown",
   "metadata": {},
   "source": [
    "# File Input and Output (I/O)\n",
    "\n",
    "In this section, we'll discuss several of the common methods for getting the types of dataset used by astronomers into Python for analysis, and how to save our own generated (or modified) data back out. This is a core skill, because it is usually the first step in any research endeavour that is not a pure theory-based analytic calculation. \n",
    "\n",
    "As an example: let's say you've found a research mentor --- graduate student, postdoc, or faculty --- and they have agreed to help you get started with research. Generally, this will involve two things: \n",
    "- They will provide a (possibly overwhelming) list of papers and review articles for you to read, and \n",
    "- They will provide some data related to the project. \n",
    "\n",
    "Then they might say something like \"As you skim through these papers to get a feel for what you will be doing, try playing around with these data a bit and see if you can make a plot of X vs Y.\" Or, they might say \"Go online and download the Nasa Sloan Atlas and see if you can make a BPT diagram for all the galaxies with non-zero line flux.\"\n",
    "\n",
    "\n",
    "This is where file I/O comes in. Even if you have taken a general introductory Python course online or even in the computer science department of a university, those courses will likely never have had cause to teach you how to read in a `FITS` file, a specialized filetype which can only be interacted with via special tools. Even if your mentor provides something as simple as a text file with some columns of numbers written out (known as `ASCII`), it is likely that a function you may have learned such as \\code{numpy.loadtxt()} or \\code{pandas.read_csv()} won't work on that data right \"out of the box\" because astronomical data in ASCII files often \n",
    "\n",
    "- has missing entries\n",
    "- have a mix of delimeters \n",
    "- are not even formatted into clean columns. \n",
    "\n",
    "If that sounds frustrating, it is --- and it's why more constrained data formats (like `FITS`, `asdf`, or `hdf5`) are now preffered. Generally, if you can successfully *write* one of these files, adhering to their internal rules, you can *read* them back in simply and without hassle.\n",
    "\n",
    "In the following examples, I am going to demonstrate the *general* method for reading several common data formats in astronomy. This can be treated as a \"cheat-sheet\" in the data formats if you already know a bit of Python. If you are brand new to Python, I suggest skipping ahead to basic Python syntax and structure first, so that you can separate what is a Python-ism and what is data format related. \n",
    "\n",
    "## ASCII (text files)\n",
    "\n",
    "The simplest (in some sense) format for data storage is the humble text file. The primary advantage of an ASCII file as a data storage format is portability; no special software is needed to read these files (in fact, any computer can do so via one of several programs, including the shell). On many computers, you can preview the contents of a text file without even opening it. \n",
    "\n",
    "Text files are also very flexible insofar is they impose no rules on how you format the information placed into a text file. As mentioned above, however, this can lead to headaches later, because decisions that make a text file read-friendly to the eye might make it impossible to parse (easily) via computer. \n",
    "\n",
    "ASCII files are so basic that even Python itself has an I/O operation that can read them in. Here is an example of that for one of the data sets you will use in the Chapter Assignment on astronomical imaging (*Note, this is almost never the recommended method*):"
   ]
  },
  {
   "cell_type": "code",
   "execution_count": 1,
   "metadata": {},
   "outputs": [],
   "source": [
    "with open('../Imaging/relano2016_m33_apertures.txt','r') as f:\n",
    "    data = f.read()"
   ]
  },
  {
   "cell_type": "markdown",
   "metadata": {},
   "source": [
    "Above, I use a python-structure called a *context manager* (the \"with open\" formatting) simply because it allows a file to be opened, extracted, and then automatically closed again when the requisite data has been loaded. Equivalent would be:"
   ]
  },
  {
   "cell_type": "code",
   "execution_count": 2,
   "metadata": {},
   "outputs": [],
   "source": [
    "f = open('../Imaging/relano2016_m33_apertures.txt','r') \n",
    "data = f.read() \n",
    "f.close()"
   ]
  },
  {
   "cell_type": "markdown",
   "metadata": {},
   "source": [
    "Let's look at what our `data` variable looks like:"
   ]
  },
  {
   "cell_type": "code",
   "execution_count": 3,
   "metadata": {},
   "outputs": [
    {
     "data": {
      "text/plain": [
       "'ID,  RA,            DEC,           ap_radius, type\\n1\\t,01:32:32.330,+30:35:03.97,48.5,Mixed\\n2\\t,01:32:34.685,+30:30:27.45,40.7,Mixed\\n3\\t,01:32:34.687,+30:27:29.01,44.8,Mixed\\n4\\t,01:32:37.566,+30:40:08.76,53.2,ClearShell\\n5\\t,01:32:44.823,+30:34:58.75,29.5,Filled\\n6\\t,01:32:44.903,+30:25:10.88,60.0,ClearShell\\n7\\t,01:32:45.500,+30:38:55.18,47.6,Mixed\\n8\\t,01:32:46.135,+30:20:25.64,30.3,ClearShell\\n9\\t,01:32:51.918,+30:29:54.64,45.4,ClearShell\\n10\\t,01:32:52.458,+30:34:57.00,32.5,Shell\\n11\\t,01:32:52.578,+30:38:17.46,19.5,ClearShell\\n12\\t,01:32:53.934,+30:23:18.05,36.1,Mixed\\n13\\t,01:32:56.280,+30:40:34.37,39.4,Shell\\n14\\t,01:32:56.655,+30:27:25.20,37.4,Shell\\n15\\t,01:32:58.381,+30:35:58.24,28.5,Shell\\n16\\t,01:32:59.261,+30:44:20.36,38.3,Mixed\\n17\\t,01:33:00.968,+30:30:53.08,39.4,Shell\\n18\\t,01:33:03.079,+30:11:22.52,40.1,Mixed\\n19\\t,01:33:07.361,+30:42:40.20,34.7,Mixed\\n20\\t,01:33:08.571,+30:29:54.02,34.3,Mixed\\n21\\t,01:33:10.283,+30:27:24.12,41.1,ClearShell\\n22\\t,01:33:11.174,+30:23:20.86,39.0,Mixed\\n23\\t,01:33:11.303,+30:45:15.32,31.7,Filled\\n24\\t,01:33:12.083,+30:48:56.26,46.3,Shell\\n25\\t,01:33:12.188,+30:38:47.14,37.6,Mixed\\n26\\t,01:33:12.251,+30:34:17.32,35.0,Mixed\\n27\\t,01:33:14.743,+30:32:32.25,27.9,Mixed\\n28\\t,01:33:15.673,+30:56:40.94,60.0,Mixed\\n29\\t,01:33:15.870,+30:53:24.88,67.5,Mixed\\n30\\t,01:33:15.912,+30:44:57.64,46.5,Shell\\n31\\t,01:33:18.702,+30:27:05.01,40.5,Shell\\n32\\t,01:33:22.130,+30:26:20.43,44.1,ClearShell\\n33\\t,01:33:23.026,+30:50:23.31,60.0,Mixed\\n34\\t,01:33:24.625,+30:30:47.45,27.8,Filled\\n35\\t,01:33:24.933,+30:25:23.95,31.3,Filled\\n36\\t,01:33:25.453,+30:47:32.94,20.6,Shell\\n37\\t,01:33:26.787,+30:38:58.10,48.2,Shell\\n38\\t,01:33:27.523,+31:00:35.30,43.2,Shell\\n39\\t,01:33:27.549,+30:45:52.35,38.0,Shell\\n40\\t,01:33:28.248,+30:52:49.29,60.0,Shell\\n41\\t,01:33:29.375,+30:31:46.36,39.7,Mixed\\n42\\t,01:33:29.626,+30:40:31.43,37.0,Mixed\\n43\\t,01:33:30.975,+30:59:36.18,38.0,Shell\\n44\\t,01:33:33.209,+30:41:40.99,48.9,Mixed\\n45\\t,01:33:33.863,+30:37:38.97,21.5,Shell\\n46\\t,01:33:34.840,+30:48:35.30,40.3,Shell\\n47\\t,01:33:35.078,+30:37:03.04,20.4,Filled\\n48\\t,01:33:35.110,+31:00:54.44,60.0,ClearShell\\n49\\t,01:33:35.786,+30:39:32.81,37.5,Shell\\n50\\t,01:33:36.596,+30:50:42.94,33.7,Shell\\n51\\t,01:33:36.742,+30:20:06.00,35.2,Mixed\\n52\\t,01:33:39.232,+30:32:43.33,23.4,Mixed\\n53\\t,01:33:39.542,+30:38:06.13,29.9,Mixed\\n54\\t,01:33:42.539,+30:22:52.11,45.1,Shell\\n55\\t,01:33:44.164,+30:44:43.52,36.6,Mixed\\n56\\t,01:33:44.499,+31:02:04.51,60.0,Shell\\n57\\t,01:33:45.360,+30:21:38.68,30.4,Filled\\n58\\t,01:33:45.466,+30:36:29.63,52.3,Mixed\\n59\\t,01:33:46.951,+30:27:21.04,35.3,Filled\\n60\\t,01:33:47.819,+30:50:50.74,30.0,Shell\\n61\\t,01:33:49.944,+30:51:39.58,34.7,Mixed\\n62\\t,01:33:50.889,+30:56:35.44,34.3,Shell\\n63\\t,01:33:53.066,+30:39:06.70,42.2,Mixed\\n64\\t,01:33:54.197,+30:33:03.51,34.6,Mixed\\n65\\t,01:33:54.236,+30:35:28.30,32.9,Mixed\\n66\\t,01:33:55.314,+30:43:24.04,33.3,ClearShell\\n67\\t,01:33:55.680,+30:45:24.51,33.0,Mixed\\n68\\t,01:33:56.002,+30:19:54.11,27.6,Mixed\\n69\\t,01:33:56.417,+30:27:36.58,53.7,ClearShell\\n70\\t,01:33:56.659,+30:32:02.44,41.9,ClearShell\\n71\\t,01:33:57.505,+30:42:15.57,39.4,Mixed\\n72\\t,01:34:01.742,+30:46:32.53,23.5,ClearShell\\n73\\t,01:34:02.462,+30:36:27.67,34.6,Mixed\\n74\\t,01:34:02.764,+30:38:44.53,39.2,Mixed\\n75\\t,01:34:02.958,+30:51:26.34,27.8,Mixed\\n76\\t,01:34:03.753,+30:54:55.31,35.0,Mixed\\n77\\t,01:34:06.329,+30:48:54.82,26.2,Filled\\n78\\t,01:34:06.817,+30:41:45.58,39.8,ClearShell\\n79\\t,01:34:07.340,+30:47:31.72,39.2,ClearShell\\n80\\t,01:34:07.549,+30:33:58.71,24.3,Shell\\n81\\t,01:34:09.071,+31:02:00.48,43.3,Shell\\n82\\t,01:34:10.018,+30:31:56.11,31.8,Mixed\\n83\\t,01:34:10.505,+30:21:52.11,59.2,ClearShell\\n84\\t,01:34:10.891,+31:03:17.44,36.5,Mixed\\n85\\t,01:34:11.082,+30:36:10.08,39.4,Shell\\n86\\t,01:34:12.803,+30:52:26.74,29.2,Shell\\n87\\t,01:34:13.301,+31:09:14.58,60.0,ClearShell\\n88\\t,01:34:14.241,+31:04:44.77,34.6,Shell\\n89\\t,01:34:15.273,+31:10:46.66,38.9,Shell\\n90\\t,01:34:15.776,+30:37:10.75,50.9,Mixed\\n91\\t,01:34:17.115,+30:51:51.83,35.4,Mixed\\n92\\t,01:34:20.140,+30:44:18.73,36.5,Mixed\\n93\\t,01:34:21.962,+30:45:46.91,45.6,Mixed\\n94\\t,01:34:24.461,+30:31:13.03,22.5,ClearShell\\n95\\t,01:34:24.519,+30:54:50.28,30.2,Mixed\\n96\\t,01:34:28.949,+30:53:33.18,41.9,Shell\\n97\\t,01:34:30.665,+30:57:20.07,42.2,Mixed\\n98\\t,01:34:33.060,+30:47:01.71,74.2,Mixed\\n99\\t,01:34:33.726,+31:00:31.15,61.1,ClearShell\\n100\\t,01:34:33.890,+30:35:23.66,25.7,Mixed\\n101\\t,01:34:35.593,+30:42:26.99,52.9,Shell\\n102\\t,01:34:37.343,+30:34:52.93,32.4,Filled\\n103\\t,01:34:38.019,+30:57:28.13,60.0,ClearShell\\n104\\t,01:34:38.868,+30:44:03.03,26.7,Shell\\n105\\t,01:34:39.091,+31:02:27.84,39.1,Shell\\n106\\t,01:34:39.813,+30:41:49.57,30.3,Mixed\\n107\\t,01:34:41.427,+30:28:00.16,54.0,ClearShell\\n108\\t,01:34:41.641,+30:37:29.54,29.8,ClearShell\\n109\\t,01:34:42.835,+30:31:44.95,29.0,Shell\\n110\\t,01:34:49.060,+31:07:47.26,68.5,ClearShell\\n111\\t,01:34:49.718,+30:54:49.90,32.3,Mixed\\n112\\t,01:34:50.644,+30:36:16.59,40.2,ClearShell\\n113\\t,01:34:54.748,+30:41:15.45,33.2,Shell\\n114\\t,01:34:56.466,+30:36:34.42,23.7,ClearShell\\n115\\t,01:35:00.940,+30:38:16.81,39.1,ClearShell\\n116\\t,01:35:03.775,+30:37:08.86,37.1,ClearShell\\n117\\t,01:35:04.603,+30:40:52.88,47.6,Shell\\n118\\t,01:35:06.822,+30:41:55.06,28.6,Shell\\n119\\t,01:35:10.605,+30:45:24.21,39.4,ClearShell'"
      ]
     },
     "execution_count": 3,
     "metadata": {},
     "output_type": "execute_result"
    }
   ],
   "source": [
    "data"
   ]
  },
  {
   "cell_type": "code",
   "execution_count": 4,
   "metadata": {},
   "outputs": [
    {
     "data": {
      "text/plain": [
       "str"
      ]
     },
     "execution_count": 4,
     "metadata": {},
     "output_type": "execute_result"
    }
   ],
   "source": [
    "type(data)"
   ]
  },
  {
   "cell_type": "markdown",
   "metadata": {},
   "source": [
    "As we can see, it's read a file in as a single, long string. That's not very helpful. Try opening the Relano file using a program on your computer (like Notepad on a PC, or with Preview on a Mac). Notice that our string here contains things that don't seem to be in the file! Things like \"\\n2\" or \"\\t\". These are *formatting* tags, and they are the structure formatting for ASCII. For example, \"\\t\" indicates there is a tab-spacing between two entries, and \"\\n\" indicates a new line in the file. \n",
    "\n",
    "While we could use those formatting tags to construct a set of code that parses this string into actual data we care about, it is instead better to use one of several libraries that have functions directly related to this purpose. \n",
    "\n",
    "The `numpy` library has two functions useful for this: `np.loadtxt` and `np.genfromtxt`. If you have a very simple text file with columns of numbers and no mix of data types, `np.loadtxt` is probably fine. But in many cases, `np.genfromtxt` is more flexible. Let's try it out:"
   ]
  },
  {
   "cell_type": "code",
   "execution_count": 5,
   "metadata": {},
   "outputs": [
    {
     "ename": "ValueError",
     "evalue": "Some errors were detected !\n    Line #2 (got 2 columns instead of 5)\n    Line #3 (got 2 columns instead of 5)\n    Line #4 (got 2 columns instead of 5)\n    Line #5 (got 2 columns instead of 5)\n    Line #6 (got 2 columns instead of 5)\n    Line #7 (got 2 columns instead of 5)\n    Line #8 (got 2 columns instead of 5)\n    Line #9 (got 2 columns instead of 5)\n    Line #10 (got 2 columns instead of 5)\n    Line #11 (got 2 columns instead of 5)\n    Line #12 (got 2 columns instead of 5)\n    Line #13 (got 2 columns instead of 5)\n    Line #14 (got 2 columns instead of 5)\n    Line #15 (got 2 columns instead of 5)\n    Line #16 (got 2 columns instead of 5)\n    Line #17 (got 2 columns instead of 5)\n    Line #18 (got 2 columns instead of 5)\n    Line #19 (got 2 columns instead of 5)\n    Line #20 (got 2 columns instead of 5)\n    Line #21 (got 2 columns instead of 5)\n    Line #22 (got 2 columns instead of 5)\n    Line #23 (got 2 columns instead of 5)\n    Line #24 (got 2 columns instead of 5)\n    Line #25 (got 2 columns instead of 5)\n    Line #26 (got 2 columns instead of 5)\n    Line #27 (got 2 columns instead of 5)\n    Line #28 (got 2 columns instead of 5)\n    Line #29 (got 2 columns instead of 5)\n    Line #30 (got 2 columns instead of 5)\n    Line #31 (got 2 columns instead of 5)\n    Line #32 (got 2 columns instead of 5)\n    Line #33 (got 2 columns instead of 5)\n    Line #34 (got 2 columns instead of 5)\n    Line #35 (got 2 columns instead of 5)\n    Line #36 (got 2 columns instead of 5)\n    Line #37 (got 2 columns instead of 5)\n    Line #38 (got 2 columns instead of 5)\n    Line #39 (got 2 columns instead of 5)\n    Line #40 (got 2 columns instead of 5)\n    Line #41 (got 2 columns instead of 5)\n    Line #42 (got 2 columns instead of 5)\n    Line #43 (got 2 columns instead of 5)\n    Line #44 (got 2 columns instead of 5)\n    Line #45 (got 2 columns instead of 5)\n    Line #46 (got 2 columns instead of 5)\n    Line #47 (got 2 columns instead of 5)\n    Line #48 (got 2 columns instead of 5)\n    Line #49 (got 2 columns instead of 5)\n    Line #50 (got 2 columns instead of 5)\n    Line #51 (got 2 columns instead of 5)\n    Line #52 (got 2 columns instead of 5)\n    Line #53 (got 2 columns instead of 5)\n    Line #54 (got 2 columns instead of 5)\n    Line #55 (got 2 columns instead of 5)\n    Line #56 (got 2 columns instead of 5)\n    Line #57 (got 2 columns instead of 5)\n    Line #58 (got 2 columns instead of 5)\n    Line #59 (got 2 columns instead of 5)\n    Line #60 (got 2 columns instead of 5)\n    Line #61 (got 2 columns instead of 5)\n    Line #62 (got 2 columns instead of 5)\n    Line #63 (got 2 columns instead of 5)\n    Line #64 (got 2 columns instead of 5)\n    Line #65 (got 2 columns instead of 5)\n    Line #66 (got 2 columns instead of 5)\n    Line #67 (got 2 columns instead of 5)\n    Line #68 (got 2 columns instead of 5)\n    Line #69 (got 2 columns instead of 5)\n    Line #70 (got 2 columns instead of 5)\n    Line #71 (got 2 columns instead of 5)\n    Line #72 (got 2 columns instead of 5)\n    Line #73 (got 2 columns instead of 5)\n    Line #74 (got 2 columns instead of 5)\n    Line #75 (got 2 columns instead of 5)\n    Line #76 (got 2 columns instead of 5)\n    Line #77 (got 2 columns instead of 5)\n    Line #78 (got 2 columns instead of 5)\n    Line #79 (got 2 columns instead of 5)\n    Line #80 (got 2 columns instead of 5)\n    Line #81 (got 2 columns instead of 5)\n    Line #82 (got 2 columns instead of 5)\n    Line #83 (got 2 columns instead of 5)\n    Line #84 (got 2 columns instead of 5)\n    Line #85 (got 2 columns instead of 5)\n    Line #86 (got 2 columns instead of 5)\n    Line #87 (got 2 columns instead of 5)\n    Line #88 (got 2 columns instead of 5)\n    Line #89 (got 2 columns instead of 5)\n    Line #90 (got 2 columns instead of 5)\n    Line #91 (got 2 columns instead of 5)\n    Line #92 (got 2 columns instead of 5)\n    Line #93 (got 2 columns instead of 5)\n    Line #94 (got 2 columns instead of 5)\n    Line #95 (got 2 columns instead of 5)\n    Line #96 (got 2 columns instead of 5)\n    Line #97 (got 2 columns instead of 5)\n    Line #98 (got 2 columns instead of 5)\n    Line #99 (got 2 columns instead of 5)\n    Line #100 (got 2 columns instead of 5)\n    Line #101 (got 2 columns instead of 5)\n    Line #102 (got 2 columns instead of 5)\n    Line #103 (got 2 columns instead of 5)\n    Line #104 (got 2 columns instead of 5)\n    Line #105 (got 2 columns instead of 5)\n    Line #106 (got 2 columns instead of 5)\n    Line #107 (got 2 columns instead of 5)\n    Line #108 (got 2 columns instead of 5)\n    Line #109 (got 2 columns instead of 5)\n    Line #110 (got 2 columns instead of 5)\n    Line #111 (got 2 columns instead of 5)\n    Line #112 (got 2 columns instead of 5)\n    Line #113 (got 2 columns instead of 5)\n    Line #114 (got 2 columns instead of 5)\n    Line #115 (got 2 columns instead of 5)\n    Line #116 (got 2 columns instead of 5)\n    Line #117 (got 2 columns instead of 5)\n    Line #118 (got 2 columns instead of 5)\n    Line #119 (got 2 columns instead of 5)\n    Line #120 (got 2 columns instead of 5)",
     "output_type": "error",
     "traceback": [
      "\u001b[0;31m---------------------------------------------------------------------------\u001b[0m",
      "\u001b[0;31mValueError\u001b[0m                                Traceback (most recent call last)",
      "Cell \u001b[0;32mIn[5], line 2\u001b[0m\n\u001b[1;32m      1\u001b[0m \u001b[39mimport\u001b[39;00m \u001b[39mnumpy\u001b[39;00m \u001b[39mas\u001b[39;00m \u001b[39mnp\u001b[39;00m \n\u001b[0;32m----> 2\u001b[0m data \u001b[39m=\u001b[39m np\u001b[39m.\u001b[39;49mgenfromtxt(\u001b[39m'\u001b[39;49m\u001b[39m../Imaging/relano2016_m33_apertures.txt\u001b[39;49m\u001b[39m'\u001b[39;49m)\n",
      "File \u001b[0;32m~/miniconda3/envs/theia/lib/python3.10/site-packages/numpy/lib/npyio.py:2291\u001b[0m, in \u001b[0;36mgenfromtxt\u001b[0;34m(fname, dtype, comments, delimiter, skip_header, skip_footer, converters, missing_values, filling_values, usecols, names, excludelist, deletechars, replace_space, autostrip, case_sensitive, defaultfmt, unpack, usemask, loose, invalid_raise, max_rows, encoding, ndmin, like)\u001b[0m\n\u001b[1;32m   2289\u001b[0m \u001b[39m# Raise an exception ?\u001b[39;00m\n\u001b[1;32m   2290\u001b[0m \u001b[39mif\u001b[39;00m invalid_raise:\n\u001b[0;32m-> 2291\u001b[0m     \u001b[39mraise\u001b[39;00m \u001b[39mValueError\u001b[39;00m(errmsg)\n\u001b[1;32m   2292\u001b[0m \u001b[39m# Issue a warning ?\u001b[39;00m\n\u001b[1;32m   2293\u001b[0m \u001b[39melse\u001b[39;00m:\n\u001b[1;32m   2294\u001b[0m     warnings\u001b[39m.\u001b[39mwarn(errmsg, ConversionWarning, stacklevel\u001b[39m=\u001b[39m\u001b[39m2\u001b[39m)\n",
      "\u001b[0;31mValueError\u001b[0m: Some errors were detected !\n    Line #2 (got 2 columns instead of 5)\n    Line #3 (got 2 columns instead of 5)\n    Line #4 (got 2 columns instead of 5)\n    Line #5 (got 2 columns instead of 5)\n    Line #6 (got 2 columns instead of 5)\n    Line #7 (got 2 columns instead of 5)\n    Line #8 (got 2 columns instead of 5)\n    Line #9 (got 2 columns instead of 5)\n    Line #10 (got 2 columns instead of 5)\n    Line #11 (got 2 columns instead of 5)\n    Line #12 (got 2 columns instead of 5)\n    Line #13 (got 2 columns instead of 5)\n    Line #14 (got 2 columns instead of 5)\n    Line #15 (got 2 columns instead of 5)\n    Line #16 (got 2 columns instead of 5)\n    Line #17 (got 2 columns instead of 5)\n    Line #18 (got 2 columns instead of 5)\n    Line #19 (got 2 columns instead of 5)\n    Line #20 (got 2 columns instead of 5)\n    Line #21 (got 2 columns instead of 5)\n    Line #22 (got 2 columns instead of 5)\n    Line #23 (got 2 columns instead of 5)\n    Line #24 (got 2 columns instead of 5)\n    Line #25 (got 2 columns instead of 5)\n    Line #26 (got 2 columns instead of 5)\n    Line #27 (got 2 columns instead of 5)\n    Line #28 (got 2 columns instead of 5)\n    Line #29 (got 2 columns instead of 5)\n    Line #30 (got 2 columns instead of 5)\n    Line #31 (got 2 columns instead of 5)\n    Line #32 (got 2 columns instead of 5)\n    Line #33 (got 2 columns instead of 5)\n    Line #34 (got 2 columns instead of 5)\n    Line #35 (got 2 columns instead of 5)\n    Line #36 (got 2 columns instead of 5)\n    Line #37 (got 2 columns instead of 5)\n    Line #38 (got 2 columns instead of 5)\n    Line #39 (got 2 columns instead of 5)\n    Line #40 (got 2 columns instead of 5)\n    Line #41 (got 2 columns instead of 5)\n    Line #42 (got 2 columns instead of 5)\n    Line #43 (got 2 columns instead of 5)\n    Line #44 (got 2 columns instead of 5)\n    Line #45 (got 2 columns instead of 5)\n    Line #46 (got 2 columns instead of 5)\n    Line #47 (got 2 columns instead of 5)\n    Line #48 (got 2 columns instead of 5)\n    Line #49 (got 2 columns instead of 5)\n    Line #50 (got 2 columns instead of 5)\n    Line #51 (got 2 columns instead of 5)\n    Line #52 (got 2 columns instead of 5)\n    Line #53 (got 2 columns instead of 5)\n    Line #54 (got 2 columns instead of 5)\n    Line #55 (got 2 columns instead of 5)\n    Line #56 (got 2 columns instead of 5)\n    Line #57 (got 2 columns instead of 5)\n    Line #58 (got 2 columns instead of 5)\n    Line #59 (got 2 columns instead of 5)\n    Line #60 (got 2 columns instead of 5)\n    Line #61 (got 2 columns instead of 5)\n    Line #62 (got 2 columns instead of 5)\n    Line #63 (got 2 columns instead of 5)\n    Line #64 (got 2 columns instead of 5)\n    Line #65 (got 2 columns instead of 5)\n    Line #66 (got 2 columns instead of 5)\n    Line #67 (got 2 columns instead of 5)\n    Line #68 (got 2 columns instead of 5)\n    Line #69 (got 2 columns instead of 5)\n    Line #70 (got 2 columns instead of 5)\n    Line #71 (got 2 columns instead of 5)\n    Line #72 (got 2 columns instead of 5)\n    Line #73 (got 2 columns instead of 5)\n    Line #74 (got 2 columns instead of 5)\n    Line #75 (got 2 columns instead of 5)\n    Line #76 (got 2 columns instead of 5)\n    Line #77 (got 2 columns instead of 5)\n    Line #78 (got 2 columns instead of 5)\n    Line #79 (got 2 columns instead of 5)\n    Line #80 (got 2 columns instead of 5)\n    Line #81 (got 2 columns instead of 5)\n    Line #82 (got 2 columns instead of 5)\n    Line #83 (got 2 columns instead of 5)\n    Line #84 (got 2 columns instead of 5)\n    Line #85 (got 2 columns instead of 5)\n    Line #86 (got 2 columns instead of 5)\n    Line #87 (got 2 columns instead of 5)\n    Line #88 (got 2 columns instead of 5)\n    Line #89 (got 2 columns instead of 5)\n    Line #90 (got 2 columns instead of 5)\n    Line #91 (got 2 columns instead of 5)\n    Line #92 (got 2 columns instead of 5)\n    Line #93 (got 2 columns instead of 5)\n    Line #94 (got 2 columns instead of 5)\n    Line #95 (got 2 columns instead of 5)\n    Line #96 (got 2 columns instead of 5)\n    Line #97 (got 2 columns instead of 5)\n    Line #98 (got 2 columns instead of 5)\n    Line #99 (got 2 columns instead of 5)\n    Line #100 (got 2 columns instead of 5)\n    Line #101 (got 2 columns instead of 5)\n    Line #102 (got 2 columns instead of 5)\n    Line #103 (got 2 columns instead of 5)\n    Line #104 (got 2 columns instead of 5)\n    Line #105 (got 2 columns instead of 5)\n    Line #106 (got 2 columns instead of 5)\n    Line #107 (got 2 columns instead of 5)\n    Line #108 (got 2 columns instead of 5)\n    Line #109 (got 2 columns instead of 5)\n    Line #110 (got 2 columns instead of 5)\n    Line #111 (got 2 columns instead of 5)\n    Line #112 (got 2 columns instead of 5)\n    Line #113 (got 2 columns instead of 5)\n    Line #114 (got 2 columns instead of 5)\n    Line #115 (got 2 columns instead of 5)\n    Line #116 (got 2 columns instead of 5)\n    Line #117 (got 2 columns instead of 5)\n    Line #118 (got 2 columns instead of 5)\n    Line #119 (got 2 columns instead of 5)\n    Line #120 (got 2 columns instead of 5)"
     ]
    }
   ],
   "source": [
    "import numpy as np \n",
    "data = np.genfromtxt('../Imaging/relano2016_m33_apertures.txt')"
   ]
  },
  {
   "cell_type": "markdown",
   "metadata": {},
   "source": [
    "Ouch! We got a bunch of errors! This is because `np.genfromtxt` doesn't know the format of the file and doesn't have a strong engine for making guesses. We have to instead provide several extra arguments to the function to tell it out our data looks:"
   ]
  },
  {
   "cell_type": "code",
   "execution_count": 10,
   "metadata": {},
   "outputs": [],
   "source": [
    "data = np.genfromtxt('../Imaging/relano2016_m33_apertures.txt',\n",
    "                     skip_header=1,\n",
    "                     delimiter=',')"
   ]
  },
  {
   "cell_type": "markdown",
   "metadata": {},
   "source": [
    "If you look directly at the text file we're working with, you'll notice that the first row contains names for each column --- we want to skip this row when reading in the data because it will (usually) be a different data type (str) than the data in the column below it. Additionally, we had to specify that the delimeter between entries in a row is a comma. But now we should have a reasonable array of data:"
   ]
  },
  {
   "cell_type": "code",
   "execution_count": 11,
   "metadata": {},
   "outputs": [
    {
     "data": {
      "text/plain": [
       "array([[ 1. ,  nan,  nan, 48.5,  nan],\n",
       "       [ 2. ,  nan,  nan, 40.7,  nan],\n",
       "       [ 3. ,  nan,  nan, 44.8,  nan],\n",
       "       [ 4. ,  nan,  nan, 53.2,  nan],\n",
       "       [ 5. ,  nan,  nan, 29.5,  nan]])"
      ]
     },
     "execution_count": 11,
     "metadata": {},
     "output_type": "execute_result"
    }
   ],
   "source": [
    "data[:5]"
   ]
  },
  {
   "cell_type": "markdown",
   "metadata": {},
   "source": [
    "Oh dear.... most of the data has been read in as a `NaN` --- \"Not a Number\". The reason for this is that we have a mix of data types in our file -- the RA, DEC, and \"type\" columns are all technically strings, and only the `ap_radius` column is a decimal valued number (known as a float), which is what numpy expects by default. \n",
    "\n",
    "As it turns out, we can also specify the data types for each individual column upon loading the file:"
   ]
  },
  {
   "cell_type": "code",
   "execution_count": 19,
   "metadata": {},
   "outputs": [
    {
     "data": {
      "text/plain": [
       "array([(1, '01:32:32.330', '+30:35:03.97', 48.5, 'Mixed'),\n",
       "       (2, '01:32:34.685', '+30:30:27.45', 40.7, 'Mixed'),\n",
       "       (3, '01:32:34.687', '+30:27:29.01', 44.8, 'Mixed'),\n",
       "       (4, '01:32:37.566', '+30:40:08.76', 53.2, 'ClearShell'),\n",
       "       (5, '01:32:44.823', '+30:34:58.75', 29.5, 'Filled')],\n",
       "      dtype=[('f0', '<i8'), ('f1', '<U25'), ('f2', '<U25'), ('f3', '<f8'), ('f4', '<U25')])"
      ]
     },
     "execution_count": 19,
     "metadata": {},
     "output_type": "execute_result"
    }
   ],
   "source": [
    "data = np.genfromtxt('../Imaging/relano2016_m33_apertures.txt',\n",
    "                     skip_header=1,\n",
    "                     delimiter=',',\n",
    "                     dtype=(int,'<U25','<U25',float,'<U25'))\n",
    "data[:5]"
   ]
  },
  {
   "cell_type": "markdown",
   "metadata": {},
   "source": [
    "Horray! We finally got the data into Python (in at least what appears to be a sensible way). Above, I specified that columns 1 and 4 were `int` and `float` while the others is a way of saying \"A string less than 25 characters\". \n",
    "\n",
    "Are we finished? Unfortunately, no. The `numpy` library is not well-designed to handle this type of heterogeneous data, and is currently storing it as a structured array, for which we cannot easily access columns or perform operations (like choosing just rows with radii greater than some value).\n",
    "\n",
    "We could loop through this array and ultimately place each column into a different list, then start indexing. But it turns out there was (all along) a best tool for the job: `pandas`. \n",
    "\n",
    "The pandas library will be covered more later, but in short, it is a data-science oriented library with tools well-suited to the (often) heterogeneous datasets seen in industry. It also has some logic built in to try to figure out the structure of a dataset. "
   ]
  },
  {
   "cell_type": "code",
   "execution_count": 29,
   "metadata": {},
   "outputs": [
    {
     "data": {
      "text/html": [
       "<div>\n",
       "<style scoped>\n",
       "    .dataframe tbody tr th:only-of-type {\n",
       "        vertical-align: middle;\n",
       "    }\n",
       "\n",
       "    .dataframe tbody tr th {\n",
       "        vertical-align: top;\n",
       "    }\n",
       "\n",
       "    .dataframe thead th {\n",
       "        text-align: right;\n",
       "    }\n",
       "</style>\n",
       "<table border=\"1\" class=\"dataframe\">\n",
       "  <thead>\n",
       "    <tr style=\"text-align: right;\">\n",
       "      <th></th>\n",
       "      <th>ID</th>\n",
       "      <th>RA</th>\n",
       "      <th>DEC</th>\n",
       "      <th>ap_radius</th>\n",
       "      <th>type</th>\n",
       "    </tr>\n",
       "  </thead>\n",
       "  <tbody>\n",
       "    <tr>\n",
       "      <th>0</th>\n",
       "      <td>1</td>\n",
       "      <td>01:32:32.330</td>\n",
       "      <td>+30:35:03.97</td>\n",
       "      <td>48.5</td>\n",
       "      <td>Mixed</td>\n",
       "    </tr>\n",
       "    <tr>\n",
       "      <th>1</th>\n",
       "      <td>2</td>\n",
       "      <td>01:32:34.685</td>\n",
       "      <td>+30:30:27.45</td>\n",
       "      <td>40.7</td>\n",
       "      <td>Mixed</td>\n",
       "    </tr>\n",
       "    <tr>\n",
       "      <th>2</th>\n",
       "      <td>3</td>\n",
       "      <td>01:32:34.687</td>\n",
       "      <td>+30:27:29.01</td>\n",
       "      <td>44.8</td>\n",
       "      <td>Mixed</td>\n",
       "    </tr>\n",
       "    <tr>\n",
       "      <th>3</th>\n",
       "      <td>4</td>\n",
       "      <td>01:32:37.566</td>\n",
       "      <td>+30:40:08.76</td>\n",
       "      <td>53.2</td>\n",
       "      <td>ClearShell</td>\n",
       "    </tr>\n",
       "    <tr>\n",
       "      <th>4</th>\n",
       "      <td>5</td>\n",
       "      <td>01:32:44.823</td>\n",
       "      <td>+30:34:58.75</td>\n",
       "      <td>29.5</td>\n",
       "      <td>Filled</td>\n",
       "    </tr>\n",
       "  </tbody>\n",
       "</table>\n",
       "</div>"
      ],
      "text/plain": [
       "   ID            RA             DEC             ap_radius        type\n",
       "0   1  01:32:32.330    +30:35:03.97                  48.5       Mixed\n",
       "1   2  01:32:34.685    +30:30:27.45                  40.7       Mixed\n",
       "2   3  01:32:34.687    +30:27:29.01                  44.8       Mixed\n",
       "3   4  01:32:37.566    +30:40:08.76                  53.2  ClearShell\n",
       "4   5  01:32:44.823    +30:34:58.75                  29.5      Filled"
      ]
     },
     "execution_count": 29,
     "metadata": {},
     "output_type": "execute_result"
    }
   ],
   "source": [
    "import pandas as pd \n",
    "data = pd.read_csv('../Imaging/relano2016_m33_apertures.txt')\n",
    "data[:5]"
   ]
  },
  {
   "cell_type": "markdown",
   "metadata": {},
   "source": [
    "As we can see, with almost no effort at all, `pandas` read our data into a table, deftly figuring out the column headings and parsing the heterogeneous data types. We can now get the radii out easily, or indeed, find all rows with a radius bigger than some value. There is only one thing that pandas did *incorrectly* which we do have to fix: Our delimeter in our file is a comma, but there are many spaces in the header row designed, it seems, to make it easier to see which column heading goes with each column. `pandas` didn't know to strip those spaces, so if we actually print the column names, we'll see the following:"
   ]
  },
  {
   "cell_type": "code",
   "execution_count": 31,
   "metadata": {},
   "outputs": [
    {
     "data": {
      "text/plain": [
       "Index(['ID', '  RA', '            DEC', '           ap_radius', ' type'], dtype='object')"
      ]
     },
     "execution_count": 31,
     "metadata": {},
     "output_type": "execute_result"
    }
   ],
   "source": [
    "data.columns"
   ]
  },
  {
   "cell_type": "markdown",
   "metadata": {},
   "source": [
    "We need to remove these spaces or we won't be able to easily index out the columns. "
   ]
  },
  {
   "cell_type": "code",
   "execution_count": 32,
   "metadata": {},
   "outputs": [
    {
     "data": {
      "text/plain": [
       "Index(['ID', 'RA', 'DEC', 'ap_radius', 'type'], dtype='object')"
      ]
     },
     "execution_count": 32,
     "metadata": {},
     "output_type": "execute_result"
    }
   ],
   "source": [
    "data = pd.read_csv('../Imaging/relano2016_m33_apertures.txt',\n",
    "                   skipinitialspace=True)\n",
    "data.columns"
   ]
  },
  {
   "cell_type": "markdown",
   "metadata": {},
   "source": [
    "The `pandas.read_csv()` function has *many* optional arguments that lets us set up for different data. Here, I've used the \"skipinitialspace\" argument to tell it to strip out those leading spaces. Now, with this (still relatively easy) line of code, we can perform our data analysis:"
   ]
  },
  {
   "cell_type": "code",
   "execution_count": 36,
   "metadata": {},
   "outputs": [
    {
     "data": {
      "text/html": [
       "<div>\n",
       "<style scoped>\n",
       "    .dataframe tbody tr th:only-of-type {\n",
       "        vertical-align: middle;\n",
       "    }\n",
       "\n",
       "    .dataframe tbody tr th {\n",
       "        vertical-align: top;\n",
       "    }\n",
       "\n",
       "    .dataframe thead th {\n",
       "        text-align: right;\n",
       "    }\n",
       "</style>\n",
       "<table border=\"1\" class=\"dataframe\">\n",
       "  <thead>\n",
       "    <tr style=\"text-align: right;\">\n",
       "      <th></th>\n",
       "      <th>ID</th>\n",
       "      <th>RA</th>\n",
       "      <th>DEC</th>\n",
       "      <th>ap_radius</th>\n",
       "      <th>type</th>\n",
       "    </tr>\n",
       "  </thead>\n",
       "  <tbody>\n",
       "    <tr>\n",
       "      <th>5</th>\n",
       "      <td>6</td>\n",
       "      <td>01:32:44.903</td>\n",
       "      <td>+30:25:10.88</td>\n",
       "      <td>60.0</td>\n",
       "      <td>ClearShell</td>\n",
       "    </tr>\n",
       "    <tr>\n",
       "      <th>27</th>\n",
       "      <td>28</td>\n",
       "      <td>01:33:15.673</td>\n",
       "      <td>+30:56:40.94</td>\n",
       "      <td>60.0</td>\n",
       "      <td>Mixed</td>\n",
       "    </tr>\n",
       "    <tr>\n",
       "      <th>28</th>\n",
       "      <td>29</td>\n",
       "      <td>01:33:15.870</td>\n",
       "      <td>+30:53:24.88</td>\n",
       "      <td>67.5</td>\n",
       "      <td>Mixed</td>\n",
       "    </tr>\n",
       "    <tr>\n",
       "      <th>32</th>\n",
       "      <td>33</td>\n",
       "      <td>01:33:23.026</td>\n",
       "      <td>+30:50:23.31</td>\n",
       "      <td>60.0</td>\n",
       "      <td>Mixed</td>\n",
       "    </tr>\n",
       "    <tr>\n",
       "      <th>39</th>\n",
       "      <td>40</td>\n",
       "      <td>01:33:28.248</td>\n",
       "      <td>+30:52:49.29</td>\n",
       "      <td>60.0</td>\n",
       "      <td>Shell</td>\n",
       "    </tr>\n",
       "    <tr>\n",
       "      <th>47</th>\n",
       "      <td>48</td>\n",
       "      <td>01:33:35.110</td>\n",
       "      <td>+31:00:54.44</td>\n",
       "      <td>60.0</td>\n",
       "      <td>ClearShell</td>\n",
       "    </tr>\n",
       "    <tr>\n",
       "      <th>55</th>\n",
       "      <td>56</td>\n",
       "      <td>01:33:44.499</td>\n",
       "      <td>+31:02:04.51</td>\n",
       "      <td>60.0</td>\n",
       "      <td>Shell</td>\n",
       "    </tr>\n",
       "    <tr>\n",
       "      <th>82</th>\n",
       "      <td>83</td>\n",
       "      <td>01:34:10.505</td>\n",
       "      <td>+30:21:52.11</td>\n",
       "      <td>59.2</td>\n",
       "      <td>ClearShell</td>\n",
       "    </tr>\n",
       "    <tr>\n",
       "      <th>86</th>\n",
       "      <td>87</td>\n",
       "      <td>01:34:13.301</td>\n",
       "      <td>+31:09:14.58</td>\n",
       "      <td>60.0</td>\n",
       "      <td>ClearShell</td>\n",
       "    </tr>\n",
       "    <tr>\n",
       "      <th>97</th>\n",
       "      <td>98</td>\n",
       "      <td>01:34:33.060</td>\n",
       "      <td>+30:47:01.71</td>\n",
       "      <td>74.2</td>\n",
       "      <td>Mixed</td>\n",
       "    </tr>\n",
       "    <tr>\n",
       "      <th>98</th>\n",
       "      <td>99</td>\n",
       "      <td>01:34:33.726</td>\n",
       "      <td>+31:00:31.15</td>\n",
       "      <td>61.1</td>\n",
       "      <td>ClearShell</td>\n",
       "    </tr>\n",
       "    <tr>\n",
       "      <th>102</th>\n",
       "      <td>103</td>\n",
       "      <td>01:34:38.019</td>\n",
       "      <td>+30:57:28.13</td>\n",
       "      <td>60.0</td>\n",
       "      <td>ClearShell</td>\n",
       "    </tr>\n",
       "    <tr>\n",
       "      <th>109</th>\n",
       "      <td>110</td>\n",
       "      <td>01:34:49.060</td>\n",
       "      <td>+31:07:47.26</td>\n",
       "      <td>68.5</td>\n",
       "      <td>ClearShell</td>\n",
       "    </tr>\n",
       "  </tbody>\n",
       "</table>\n",
       "</div>"
      ],
      "text/plain": [
       "      ID            RA           DEC  ap_radius        type\n",
       "5      6  01:32:44.903  +30:25:10.88       60.0  ClearShell\n",
       "27    28  01:33:15.673  +30:56:40.94       60.0       Mixed\n",
       "28    29  01:33:15.870  +30:53:24.88       67.5       Mixed\n",
       "32    33  01:33:23.026  +30:50:23.31       60.0       Mixed\n",
       "39    40  01:33:28.248  +30:52:49.29       60.0       Shell\n",
       "47    48  01:33:35.110  +31:00:54.44       60.0  ClearShell\n",
       "55    56  01:33:44.499  +31:02:04.51       60.0       Shell\n",
       "82    83  01:34:10.505  +30:21:52.11       59.2  ClearShell\n",
       "86    87  01:34:13.301  +31:09:14.58       60.0  ClearShell\n",
       "97    98  01:34:33.060  +30:47:01.71       74.2       Mixed\n",
       "98    99  01:34:33.726  +31:00:31.15       61.1  ClearShell\n",
       "102  103  01:34:38.019  +30:57:28.13       60.0  ClearShell\n",
       "109  110  01:34:49.060  +31:07:47.26       68.5  ClearShell"
      ]
     },
     "execution_count": 36,
     "metadata": {},
     "output_type": "execute_result"
    }
   ],
   "source": [
    "data.loc[data.ap_radius>55]"
   ]
  },
  {
   "cell_type": "markdown",
   "metadata": {},
   "source": [
    "Above, for example, I've *filtered* the DataFrame for only rows where the aperture radius is greater than 55 arcseconds. \n",
    "\n",
    "\n",
    "### What have we learned?\n",
    "\n",
    "When it comes to ASCII text files, this is only the beginning. These read-text functions have numerous extra optional parameters because many text files are in fact much more complicated and headache-inducing than this one. What I want you to takeaway is: \n",
    "\n",
    "- Sometimes, one tool/reader will be better suited to your data than another and can help reduce the time it takes to get data imported,\n",
    "- Indeed, sometimes using one tool to *load* the data, then converting it to another data container of choice (say, from `pandas` to \\code{numpy}) can be a good trick, \n",
    "- Sometimes, but not always, simply modifying the underlying text file in a notepad-like program first can make it easier to read (for example, adding a comma delimeter)."
   ]
  },
  {
   "cell_type": "markdown",
   "metadata": {
    "user_expressions": []
   },
   "source": [
    "## Want practice with Pandas?\n",
    "\n",
    "Try out this lab: https://astro-330.github.io/Lab6/Lab6.html"
   ]
  },
  {
   "cell_type": "markdown",
   "metadata": {},
   "source": [
    "\n",
    "## FITS (Flexible Image Transport System) \n",
    "\n",
    "Thankfully, from here on out, things are going to get simpler. We are moving to data formats where in order to *write* a file in the first place, it must follow rules that make it *readable*. Astronomical images and data tables are very often stored in what are known as \"fits files\". It's a stable standard that has been around for a long time. Reading fits files is relatively simple, as the \\code{astropy} library has a module dedicated to the purpose:"
   ]
  },
  {
   "cell_type": "code",
   "execution_count": null,
   "metadata": {},
   "outputs": [],
   "source": [
    "from astropy.io import fits\n",
    "with fits.open('../../BookDatasets/imaging/m33-halpha.fits') as hdu: \n",
    "    image = hdu[0].data \n",
    "    header = hdu[0].header"
   ]
  },
  {
   "cell_type": "markdown",
   "metadata": {},
   "source": [
    "I've used the same context manager format as we did above, but instead of Python's `open()`, I've used the `fits.open()` function in astropy. Let's talk briefly about how `FITS` files are organized. \n",
    "\n",
    "Internally, a `FITS` file is organized into *extensions*. You can think of these as different containers in which different things can be stored. Many fits files only use one extension (say, to store a single image). But a `FITS` file containing a whole survey catalog may utilize multiple extensions to store different tables, such as one for each field of the survey. \n",
    "\n",
    "When we read a `FITS` file into an object, it is iterable (or list-like), meaning we access the different extensions by indexing (above I only use the 0th index for the first extension). Each extension (container) has two attributes: data, and a header. The data is, as it sounds, whatever data we have stored. Generally, it is either image-like (as in, an array of numbers) or tabular (there is a specific internal formatting to handle column names, data types, etc). The header, meanwhile, can be thought of as the metadata --- it usually contains information about whatever is stored in the data attribute (sometimes critical information for parsing that data). For example, image data usually have headers with information like the exposure time, telescope name, RA and DEC where the telescope was pointing, what filter was used, etc. For our Python purposes, a header gets read into the dictionary format, with keys and values. \n",
    "\n",
    "You might be wondering why I chose the name `hdu` when reading in the file. As each extension contains a header and some data, the standard name for one is \"header data unit,\" or hdu. Above, we could've used any name. But knowing what HDU means is useful because if we were to *write* a `FITS` file, we'd need to do something like the following:"
   ]
  },
  {
   "cell_type": "code",
   "execution_count": null,
   "metadata": {},
   "outputs": [],
   "source": [
    "save_array = np.zeros((10,10))\n",
    "\n",
    "hdu = fits.PrimaryHDU(save_array,header={'IMSHAPE':'10 x 10'})\n",
    "hdu.writeto('some_name.fits')"
   ]
  },
  {
   "cell_type": "markdown",
   "metadata": {},
   "source": [
    "As we can see, the way to make an hdu to save a new `FITS` file is to call `fits.PrimaryHDU()`, to which we passed the data array and a dictionary, which will be put in the header. And if we need multiple extensions, we would create a `fits.HDUList()`, containing a `fits.PrimaryHDU()` and possibly some additional `fits.ImageHDU()`'s. \n",
    "\n",
    "For non-tabular `FITS` files, the `image` variable above will just be a `numpy` array, and the `header` will just be a dictionary. For a much deeper dive into what to do from here if working with an image, see the workbook on Astronomical Imaging.\n",
    "\n",
    "How about if tabular data were stored?\n",
    "\n",
    "By convention, tabular data begins being stored in the 1st, rather than 0th extension. Tables are thus stored after the image, or if there is no image, the 0th extension is empty. Tabular data, if parsed directly using the format above will be a special `FITS` record array. Let's as an example load the Nasa Sloan Atlas, which you'll be using later in the text. "
   ]
  },
  {
   "cell_type": "code",
   "execution_count": 41,
   "metadata": {},
   "outputs": [],
   "source": [
    "with fits.open('../../BookDatasets/catalogs/nsa_v0_1_2.fits') as hdu:\n",
    "    table = hdu[1].data"
   ]
  },
  {
   "cell_type": "markdown",
   "metadata": {},
   "source": [
    "Unfortunately, there's no easy way to display this table in a view-friendly format. Here's a truncated peak:"
   ]
  },
  {
   "cell_type": "code",
   "execution_count": 43,
   "metadata": {},
   "outputs": [
    {
     "data": {
      "text/plain": [
       "('J094651.40-010228.5', '09h/m00/J094651.40-010228.5', 146.71420878660933, -1.0412815695754145, 0, 72212, 21157, -1, -1, -1, 15.178774, 0.021222278, 'sdss', 0.07, 756, 1, 206, '301', 136.29353, 1095.152, 0.020597626, 0.020687785, 0.00044536332, 0, array([  29.552263,   53.198177,  175.86322 ,  819.325   , 1793.9138  ,\n",
       "       2480.876   , 3251.03    ], dtype=float32), array([3.0069932e-01, 1.9650683e-01, 1.4631173e-02, 4.3475279e-03,\n",
       "       9.1012771e-04, 4.7585298e-04, 1.2297294e-04], dtype=float32), 1, array([  31.202734,   49.386097,  199.0066  ,  824.0366  , 1712.252   ,\n",
       "       2462.11    , 3454.6162  ], dtype=float32), array([-15.1673565, -15.816648 , -17.190884 , -18.824028 , -19.66704  ,\n",
       "       -20.00378  , -20.296247 ], dtype=float32), array([ 222.77438,  471.76144,  383.8668 , 2475.7463 , 2484.602  ,\n",
       "       2484.4727 , 1102.5615 ], dtype=float32), array([0.4536473 , 0.44762787, 0.2820931 , 0.20756142, 0.15054086,\n",
       "       0.11415057, 0.08093417], dtype=float32), array([-0.00607499,  0.00494833,  0.08098889,  0.0434305 ,  0.03558178,\n",
       "        0.02031052,  0.01923862], dtype=float32), array([1.7146798e-04, 1.0891152e-08, 1.3611655e-05, 2.1125154e-04,\n",
       "       2.5712407e-12], dtype=float32), array([2.0710815e-04, 4.5361793e-01, 2.8789890e+00, 2.3098803e+00,\n",
       "       1.7403587e+00, 1.3614385e+00, 9.9210894e-01], dtype=float32), 2.7482898e-05, 0.30352896, 0.034775626, 8815395000.0, 203.33877563476562, 266.452880859375, array([ 0.3149959 ,  0.55292106,  0.73613924,  4.4439607 , 10.582797  ,\n",
       "       15.851852  , 22.908411  ], dtype=float32), array([[ 3.1499591e-01,  5.5292106e-01,  7.3613924e-01,  4.4439607e+00,\n",
       "         1.0582797e+01,  1.5851852e+01,  2.2908411e+01],\n",
       "       [ 3.1215706e-01,  4.8534787e-01,  6.9371903e-01,  3.8997362e+00,\n",
       "         9.1883869e+00,  1.3752110e+01,  1.9739365e+01],\n",
       "       [ 2.2424848e-01,  3.7450430e-01,  5.5945641e-01,  2.9711497e+00,\n",
       "         6.7689247e+00,  1.0280761e+01,  1.4645969e+01],\n",
       "       [ 1.4835103e-01,  2.2157311e-01,  3.8334239e-01,  1.7905129e+00,\n",
       "         3.9291470e+00,  5.9650722e+00,  8.2733326e+00],\n",
       "       [ 4.1471288e-02,  6.7831859e-02,  1.9137704e-01,  8.1698632e-01,\n",
       "         1.7376291e+00,  2.5609708e+00,  3.4443357e+00],\n",
       "       [ 1.5179159e-02,  2.3273496e-02,  1.1710234e-01,  4.3912709e-01,\n",
       "         8.6518300e-01,  1.2332901e+00,  1.6239778e+00],\n",
       "       [ 4.3435390e-03,  6.2486250e-03,  4.8242450e-02,  1.7172834e-01,\n",
       "         3.2213667e-01,  4.5530882e-01,  5.8791780e-01],\n",
       "       [ 1.4110035e-03,  1.2044052e-03,  1.2765656e-02,  5.0816964e-02,\n",
       "         9.4596170e-02,  1.3518794e-01,  1.6866270e-01],\n",
       "       [ 9.5461012e-04,  3.6265393e-04,  7.2990935e-03,  2.4691641e-02,\n",
       "         4.3752514e-02,  6.4059064e-02,  7.7437676e-02],\n",
       "       [ 5.0664792e-04, -7.1094066e-05,  2.9638670e-03,  6.7447238e-03,\n",
       "         1.1328476e-02,  1.7579153e-02,  2.1971365e-02],\n",
       "       [ 0.0000000e+00,  0.0000000e+00,  1.2374972e-03,  1.0021310e-03,\n",
       "         1.3387474e-03,  3.2007305e-03,  2.3603411e-03],\n",
       "       [ 0.0000000e+00,  0.0000000e+00,  1.4736446e-03,  4.4089637e-04,\n",
       "         7.2401989e-04,  1.5145855e-03,  9.6406962e-05],\n",
       "       [ 0.0000000e+00,  0.0000000e+00,  0.0000000e+00,  0.0000000e+00,\n",
       "         0.0000000e+00,  0.0000000e+00,  0.0000000e+00],\n",
       "       [ 0.0000000e+00,  0.0000000e+00,  0.0000000e+00,  0.0000000e+00,\n",
       "         0.0000000e+00,  0.0000000e+00,  0.0000000e+00],\n",
       "       [ 0.0000000e+00,  0.0000000e+00,  0.0000000e+00,  0.0000000e+00,\n",
       "         0.0000000e+00,  0.0000000e+00,  0.0000000e+00]], dtype=float32), array([[ 233.37904 ,  408.61783 ,  635.4861  ,  474.38293 ,  129.64206 ,\n",
       "          60.10434 ,   13.010243],\n",
       "       [ 143.7284  ,  299.13757 ,  425.06302 ,  362.47797 ,  102.3743  ,\n",
       "          47.753185,    9.861989],\n",
       "       [ 194.82495 ,  369.69064 ,  475.0112  ,  484.496   ,  150.6254  ,\n",
       "          68.71571 ,   12.979028],\n",
       "       [ 275.33157 ,  580.7845  ,  575.7663  ,  809.8434  ,  283.35046 ,\n",
       "         129.02849 ,   21.130802],\n",
       "       [ 790.7647  , 1522.6487  ,  703.24817 , 1617.9415  ,  641.0504  ,\n",
       "         295.6741  ,   38.254032],\n",
       "       [1320.061   , 2927.7256  ,  857.38745 , 2478.7932  , 1097.3617  ,\n",
       "         473.77917 ,   53.512966],\n",
       "       [1661.8989  , 4392.87    , 1047.7224  , 3761.1538  , 1700.484   ,\n",
       "         721.3159  ,   68.30907 ],\n",
       "       [1808.1543  , 5103.9707  , 1180.4182  , 4886.4336  , 2138.5469  ,\n",
       "         923.67993 ,   77.150055],\n",
       "       [1823.2478  , 5274.482   ,  590.8859  , 5363.67    , 2183.3352  ,\n",
       "        1004.4031  ,   68.289734],\n",
       "       [1897.7526  , 5449.1265  , 1030.3646  , 5809.598   , 2568.739   ,\n",
       "        1066.3997  ,   80.45908 ],\n",
       "       [   0.      ,    0.      ,  820.0565  , 5895.0815  , 2695.1965  ,\n",
       "        1063.0568  ,   10.088982],\n",
       "       [   0.      ,    0.      ,  719.25415 , 3709.0652  , 1942.1951  ,\n",
       "         994.91504 ,   34.321796],\n",
       "       [   0.      ,    0.      ,    0.      ,    0.      ,    0.      ,\n",
       "           0.      ,    0.      ],\n",
       "       [   0.      ,    0.      ,    0.      ,    0.      ,    0.      ,\n",
       "           0.      ,    0.      ],\n",
       "       [   0.      ,    0.      ,    0.      ,    0.      ,    0.      ,\n",
       "           0.      ,    0.      ]], dtype=float32), array([[ 6.22157194e-02,  9.33686271e-03, -7.86471122e-04,\n",
       "        -2.61405390e-03, -7.56347436e-04, -7.04687729e-04,\n",
       "         1.08652923e-03],\n",
       "       [ 1.11178271e-01,  6.06432650e-03, -7.18956441e-03,\n",
       "        -1.10009471e-02, -5.60998823e-03, -4.02973127e-03,\n",
       "        -1.68029059e-04],\n",
       "       [ 3.06400359e-02, -2.40056477e-02, -2.04776283e-02,\n",
       "        -2.00813431e-02, -1.35486759e-02, -1.17908977e-02,\n",
       "        -1.13049867e-02],\n",
       "       [-6.24807775e-02, -7.41756186e-02, -5.70364706e-02,\n",
       "        -4.58293147e-02, -3.70767303e-02, -3.52988914e-02,\n",
       "        -3.24854106e-02],\n",
       "       [-7.11285919e-02, -1.03021465e-01, -7.12232366e-02,\n",
       "        -5.64803965e-02, -4.93816100e-02, -4.91589680e-02,\n",
       "        -4.68545668e-02],\n",
       "       [-1.06936090e-01, -1.10835090e-01, -8.41892138e-02,\n",
       "        -6.65039569e-02, -5.99188469e-02, -5.84271513e-02,\n",
       "        -5.57734109e-02],\n",
       "       [-1.29262090e-01, -1.47708356e-01, -1.26093149e-01,\n",
       "        -1.04325205e-01, -9.24050808e-02, -8.75774324e-02,\n",
       "        -8.59293714e-02],\n",
       "       [-1.08529143e-01, -1.46478087e-01, -1.01154871e-01,\n",
       "        -9.72791240e-02, -8.95083100e-02, -8.60144049e-02,\n",
       "        -8.44495296e-02],\n",
       "       [-1.41877994e-01, -1.91758811e-01, -1.26292408e-01,\n",
       "        -1.25059411e-01, -1.15912065e-01, -1.10286295e-01,\n",
       "        -1.10120840e-01],\n",
       "       [-1.54099330e-01, -1.90973148e-01, -1.55293301e-01,\n",
       "        -1.49166510e-01, -1.36784032e-01, -1.30457267e-01,\n",
       "        -1.28606901e-01],\n",
       "       [ 0.00000000e+00,  0.00000000e+00, -1.25241369e-01,\n",
       "        -1.50615692e-01, -1.38796180e-01, -1.30278856e-01,\n",
       "        -1.34358704e-01],\n",
       "       [ 0.00000000e+00,  0.00000000e+00, -2.15396304e-02,\n",
       "        -1.42557845e-01, -1.32487714e-01, -1.15793161e-01,\n",
       "        -1.10440403e-01],\n",
       "       [ 0.00000000e+00,  0.00000000e+00,  0.00000000e+00,\n",
       "         0.00000000e+00,  0.00000000e+00,  0.00000000e+00,\n",
       "         0.00000000e+00],\n",
       "       [ 0.00000000e+00,  0.00000000e+00,  0.00000000e+00,\n",
       "         0.00000000e+00,  0.00000000e+00,  0.00000000e+00,\n",
       "         0.00000000e+00],\n",
       "       [-1.63731143e-01, -1.77130356e-01, -7.15356097e-02,\n",
       "        -1.45254180e-01, -1.27084792e-01, -1.08306952e-01,\n",
       "        -5.77427149e-02]], dtype=float32), array([[ 6.1461644e-04,  2.6398376e-04, -1.3578961e-04, -1.0248927e-04,\n",
       "        -8.2066908e-06, -2.9884388e-05,  2.3550657e-04],\n",
       "       [ 5.1647974e-03,  1.6162490e-03, -7.6863002e-03, -3.8894503e-03,\n",
       "        -5.3735258e-04, -1.8921234e-03,  7.4022086e-03],\n",
       "       [-2.3132665e-02, -3.2899727e-03, -2.3108495e-02, -1.0464866e-02,\n",
       "        -3.5607540e-03, -6.0002455e-03,  9.4576431e-03],\n",
       "       [-6.9569878e-02, -1.0726762e-02, -4.0541671e-02, -2.6550524e-02,\n",
       "        -1.8463362e-02, -1.5796445e-02,  4.0526954e-03],\n",
       "       [-5.7665344e-02, -7.9207951e-03, -4.2528827e-02, -3.2491535e-02,\n",
       "        -2.9027581e-02, -2.7137144e-02, -1.1222055e-02],\n",
       "       [-1.2106309e-01, -5.9129663e-02, -3.9849598e-02, -3.7773706e-02,\n",
       "        -3.6879569e-02, -3.6052208e-02, -2.2661224e-02],\n",
       "       [-1.8133904e-01, -1.0357517e-01, -7.4756779e-02, -6.8948492e-02,\n",
       "        -6.3438602e-02, -6.0404994e-02, -4.7972083e-02],\n",
       "       [-1.8610723e-01, -1.1214035e-01, -6.8357989e-02, -6.5231383e-02,\n",
       "        -6.3213304e-02, -6.0755555e-02, -5.3678863e-02],\n",
       "       [-1.4104055e-01, -9.3614489e-02, -1.1155423e-01, -1.0616606e-01,\n",
       "        -9.7839780e-02, -9.3921371e-02, -9.0520568e-02],\n",
       "       [-8.6252131e-02, -1.1681863e-01, -1.1933309e-01, -1.5240832e-01,\n",
       "        -1.3933022e-01, -1.3296410e-01, -1.3074838e-01],\n",
       "       [ 0.0000000e+00,  0.0000000e+00, -8.1681512e-02, -1.5683806e-01,\n",
       "        -1.4617878e-01, -1.3743609e-01, -1.3544711e-01],\n",
       "       [ 0.0000000e+00,  0.0000000e+00, -3.2976244e-02, -1.4365858e-01,\n",
       "        -1.4001539e-01, -1.3217406e-01, -1.3628604e-01],\n",
       "       [ 0.0000000e+00,  0.0000000e+00,  0.0000000e+00,  0.0000000e+00,\n",
       "         0.0000000e+00,  0.0000000e+00,  0.0000000e+00],\n",
       "       [ 0.0000000e+00,  0.0000000e+00,  0.0000000e+00,  0.0000000e+00,\n",
       "         0.0000000e+00,  0.0000000e+00,  0.0000000e+00],\n",
       "       [-6.8403520e-02, -1.8001024e-01, -4.5328241e-02, -1.3134067e-01,\n",
       "        -1.4120531e-01, -1.4075850e-01, -1.3205947e-01]], dtype=float32), array([[0.88285136, 0.98149174, 0.99840504, 0.9947815 , 0.9984884 ,\n",
       "        0.9985903 , 0.99777895],\n",
       "       [0.799697  , 0.98752624, 0.9791698 , 0.9769326 , 0.98879176,\n",
       "        0.9911358 , 0.9853006 ],\n",
       "       [0.92605513, 0.95268637, 0.9400973 , 0.95571375, 0.9723695 ,\n",
       "        0.9738858 , 0.97094935],\n",
       "       [0.82897544, 0.8605565 , 0.8691989 , 0.89939886, 0.9204555 ,\n",
       "        0.92553526, 0.93660104],\n",
       "       [0.83222795, 0.81270164, 0.8467997 , 0.8776534 , 0.8916442 ,\n",
       "        0.89366716, 0.90806973],\n",
       "       [0.7218684 , 0.77679634, 0.829585  , 0.8579023 , 0.8685322 ,\n",
       "        0.8715116 , 0.8864341 ],\n",
       "       [0.6357325 , 0.6943353 , 0.7443057 , 0.7776979 , 0.7984229 ,\n",
       "        0.8076828 , 0.82080823],\n",
       "       [0.6454944 , 0.6885107 , 0.7823937 , 0.7903093 , 0.80248475,\n",
       "        0.80945086, 0.8180732 ],\n",
       "       [0.6665909 , 0.6482752 , 0.7115879 , 0.71814525, 0.7365865 ,\n",
       "        0.7469392 , 0.7504701 ],\n",
       "       [0.6998192 , 0.63416183, 0.6724536 , 0.6484541 , 0.6732893 ,\n",
       "        0.6859491 , 0.69004834],\n",
       "       [1.        , 1.        , 0.7398513 , 0.6427818 , 0.6644815 ,\n",
       "        0.6815615 , 0.679567  ],\n",
       "       [1.        , 1.        , 0.92420983, 0.66335785, 0.67678   ,\n",
       "        0.70108324, 0.7015245 ],\n",
       "       [1.        , 1.        , 1.        , 1.        , 1.        ,\n",
       "        1.        , 1.        ],\n",
       "       [1.        , 1.        , 1.        , 1.        , 1.        ,\n",
       "        1.        , 1.        ],\n",
       "       [0.6985924 , 0.5967494 , 0.8438488 , 0.6724794 , 0.6807114 ,\n",
       "        0.6983631 , 0.7480506 ]], dtype=float32), array([[  0.28299746,   0.8097542 , -85.102036  , -88.87738   ,\n",
       "        -89.68916   , -88.78583   ,   6.114876  ],\n",
       "       [  1.3298844 ,   7.4617176 , -66.54375   , -80.26433   ,\n",
       "        -87.264305  , -77.42401   ,  45.650192  ],\n",
       "       [-18.526066  , -86.098114  , -65.7729    , -76.23745   ,\n",
       "        -82.6375    , -76.5145    ,  70.04224   ],\n",
       "       [-65.963524  , -85.885666  , -72.29734   , -74.95739   ,\n",
       "        -76.76388   , -77.94561   ,  86.44443   ],\n",
       "       [-70.483826  , -87.801735  , -74.57886   , -75.044716  ,\n",
       "        -74.77603   , -75.550026  , -83.26546   ],\n",
       "       [-65.72723   , -75.96021   , -77.33511   , -75.20189   ,\n",
       "        -74.194016  , -74.161766  , -78.94383   ],\n",
       "       [-62.741016  , -72.48066   , -74.66879   , -73.26965   ,\n",
       "        -72.76467   , -72.702354  , -75.41326   ],\n",
       "       [-60.12438   , -71.28157   , -72.97507   , -73.07791   ,\n",
       "        -72.38459   , -72.38242   , -73.77932   ],\n",
       "       [-67.58479   , -76.98945   , -69.272896  , -69.83562   ,\n",
       "        -69.916374  , -69.79091   , -70.2897    ],\n",
       "       [-75.381744  , -74.272896  , -71.23      , -67.19206   ,\n",
       "        -67.23583   , -67.22738   , -67.263466  ],\n",
       "       [  0.        ,   0.        , -73.44395   , -66.920296  ,\n",
       "        -66.75801   , -66.7343    , -67.38444   ],\n",
       "       [  0.        ,   0.        , -61.576008  , -67.38983   ,\n",
       "        -66.708824  , -65.610245  , -64.50992   ],\n",
       "       [  0.        ,   0.        ,   0.        ,   0.        ,\n",
       "          0.        ,   0.        ,   0.        ],\n",
       "       [  0.        ,   0.        ,   0.        ,   0.        ,\n",
       "          0.        ,   0.        ,   0.        ],\n",
       "       [-78.66291   , -67.269     , -73.81989   , -68.93986   ,\n",
       "        -65.993614  , -63.788284  , -56.808624  ]], dtype=float32), array([  18.20807 ,   28.650707,  143.92694 ,  582.349   , 1173.0132  ,\n",
       "       1709.669   , 2266.657   ], dtype=float32), array([1.9946122 , 4.039542  , 0.20086305, 0.94572484, 0.39204565,\n",
       "       0.17428693, 0.01563295], dtype=float32), array([  1.0260136,   1.5393391,  22.531082 , 115.94242  , 263.1634   ,\n",
       "       398.40118  , 563.82434  ], dtype=float32), array([ 47.339676 , 105.975204 ,  11.7503   ,  12.554992 ,   3.9354858,\n",
       "         1.8034574,   0.3339262], dtype=float32), 0.8845921, 15.40155, 0.8016074, 17.53331, array([  19.459507,   35.224564,  131.20119 ,  684.27655 , 1576.1052  ,\n",
       "       2291.6318  , 3130.742   ], dtype=float32), array([1.0776075 , 1.8280678 , 0.65176946, 0.64248854, 0.19143192,\n",
       "       0.08979373, 0.01723353], dtype=float32), 4.7782097, 0.6645174, 16.040314, array([-0.03511749,  0.03008042, -0.05094492,  0.01464257,  0.01024179,\n",
       "        0.00601335,  0.00774814], dtype=float32), array([ 0.05221656,  0.07426106, -0.00603598,  0.08903063,  0.10644455,\n",
       "        0.07196727,  0.05925424], dtype=float32), array([0, 0, 0, 0, 0, 0, 0], dtype=int32), 0, 30, 'v2_1_5', array([2.2341923e-01, 6.7025733e-01, 1.0238351e+00, 1.7449590e+00,\n",
       "       2.9723973e+00, 4.5841761e+00, 7.3592768e+00, 1.1306418e+01,\n",
       "       1.8019548e+01, 2.7922022e+01, 4.3770184e+01, 6.8307442e+01,\n",
       "       1.0672957e+02, 1.6652217e+02, 2.5839001e+02], dtype=float32), 7.2478933, 3.4641922, 10.453795, 5.845999, 26600130, 266, 1, 51630, array([4.1058846e+00, 1.1507167e-05, 2.1699800e-01, 1.8318444e-02,\n",
       "       1.7086830e-02, 1.9758308e-43, 1.1210388e-43], dtype=float32), 131.86357, 1.6750895, 0.01734476, 0.086800694, 0.0124226315, 269.2588, 17.046213, 2.474215, 0.23574898, 123.141365, 7.7632475, 0.68473977, 584.5531, 13.858368, 5.2918415, 0.2084552, 141.25987, 5.8739424, 294.05807, 13.240504, 2.6620486, 0.16082057, 128.46378, 9.59668, 147.91853, 15.076868, 1.5249467, 0.12158316, 122.40449, 14.56363, 22.092758, 12.022614, 0.20646292, 0.13632269, 103.73506, 30.22204, -9999.0, -9999.0, -9999.0, -9999.0, -9999.0, -9999.0, 112.33277, 12.699974, 1.195764, 0.17837653, 125.590454, 9.01761, 4.145629, 0.39556292, -0.8991989, 0.43246344, 0.009395278, 0.5594772, -9999.0, -9999.0, 0.96117455, 35.6447, 146.7141910489815, -1.0412763864732957, 0.021222278, 'sdss', 'legacy', 'good', 122, 146.71421, -1.0413043)"
      ]
     },
     "execution_count": 43,
     "metadata": {},
     "output_type": "execute_result"
    }
   ],
   "source": [
    "table[0]"
   ]
  },
  {
   "cell_type": "markdown",
   "metadata": {},
   "source": [
    "A lot of this issue here is that this table has many columns and rows. A better way to load a table that has been stored in a `FITS` file is via the `astropy` Table object:"
   ]
  },
  {
   "cell_type": "code",
   "execution_count": 44,
   "metadata": {},
   "outputs": [],
   "source": [
    "from astropy.table import Table \n",
    "table = Table.read('../../BookDatasets/catalogs/nsa_v0_1_2.fits')"
   ]
  },
  {
   "cell_type": "code",
   "execution_count": 46,
   "metadata": {},
   "outputs": [
    {
     "data": {
      "text/html": [
       "<div><i>Table length=2</i>\n",
       "<table id=\"table140225888887440\" class=\"table-striped table-bordered table-condensed\">\n",
       "<thead><tr><th>IAUNAME</th><th>SUBDIR</th><th>RA</th><th>DEC</th><th>ISDSS</th><th>INED</th><th>ISIXDF</th><th>IALFALFA</th><th>IZCAT</th><th>ITWODF</th><th>MAG</th><th>Z</th><th>ZSRC</th><th>SIZE</th><th>RUN</th><th>CAMCOL</th><th>FIELD</th><th>RERUN</th><th>XPOS</th><th>YPOS</th><th>ZLG</th><th>ZDIST</th><th>ZDIST_ERR</th><th>NSAID</th><th>NMGY</th><th>NMGY_IVAR</th><th>OK</th><th>RNMGY</th><th>ABSMAG</th><th>AMIVAR</th><th>EXTINCTION</th><th>KCORRECT</th><th>KCOEFF</th><th>MTOL</th><th>B300</th><th>B1000</th><th>METS</th><th>MASS</th><th>XCEN</th><th>YCEN</th><th>NPROF</th><th>PROFMEAN</th><th>PROFMEAN_IVAR</th><th>QSTOKES</th><th>USTOKES</th><th>BASTOKES</th><th>PHISTOKES</th><th>PETROFLUX</th><th>PETROFLUX_IVAR</th><th>FIBERFLUX</th><th>FIBERFLUX_IVAR</th><th>BA50</th><th>PHI50</th><th>BA90</th><th>PHI90</th><th>SERSICFLUX</th><th>SERSICFLUX_IVAR</th><th>SERSIC_N</th><th>SERSIC_BA</th><th>SERSIC_PHI</th><th>ASYMMETRY</th><th>CLUMPY</th><th>DFLAGS</th><th>AID</th><th>PID</th><th>DVERSION</th><th>PROFTHETA</th><th>PETROTHETA</th><th>PETROTH50</th><th>PETROTH90</th><th>SERSIC_TH50</th><th>OBJNO</th><th>PLATE</th><th>FIBERID</th><th>MJD</th><th>COEFF</th><th>VDISP</th><th>D4000</th><th>D4000ERR</th><th>FA</th><th>FAERR</th><th>S2FLUX</th><th>S2FLUXERR</th><th>S2EW</th><th>S2EWERR</th><th>S2VMEAS</th><th>S2VMERR</th><th>S2RATIO</th><th>HAFLUX</th><th>HAFLUXERR</th><th>HAEW</th><th>HAEWERR</th><th>HAVMEAS</th><th>HAVMERR</th><th>N2FLUX</th><th>N2FLUXERR</th><th>N2EW</th><th>N2EWERR</th><th>N2VMEAS</th><th>N2VMERR</th><th>HBFLUX</th><th>HBFLUXERR</th><th>HBEW</th><th>HBEWERR</th><th>HBVMEAS</th><th>HBVMERR</th><th>O1FLUX</th><th>O1FLUXERR</th><th>O1EW</th><th>O1EWERR</th><th>O1VMEAS</th><th>O1VMERR</th><th>O2FLUX</th><th>O2FLUXERR</th><th>O2EW</th><th>O2EWERR</th><th>O2VMEAS</th><th>O2VMERR</th><th>O3FLUX</th><th>O3FLUXERR</th><th>O3EW</th><th>O3EWERR</th><th>O3VMEAS</th><th>O3VMERR</th><th>AHGEW</th><th>AHGEWERR</th><th>AHDEW</th><th>AHDEWERR</th><th>NE3EW</th><th>NE3EWERR</th><th>NE5EW</th><th>NE5EWERR</th><th>AV</th><th>S2NSAMP</th><th>RACAT</th><th>DECCAT</th><th>ZSDSSLINE</th><th>SURVEY</th><th>PROGRAMNAME</th><th>PLATEQUALITY</th><th>TILE</th><th>PLUG_RA</th><th>PLUG_DEC</th></tr></thead>\n",
       "<thead><tr><th>bytes19</th><th>bytes27</th><th>float64</th><th>float64</th><th>int32</th><th>int32</th><th>int32</th><th>int32</th><th>int32</th><th>int32</th><th>float32</th><th>float32</th><th>bytes7</th><th>float32</th><th>int16</th><th>uint8</th><th>int16</th><th>bytes3</th><th>float32</th><th>float32</th><th>float32</th><th>float32</th><th>float32</th><th>int32</th><th>float32[7]</th><th>float32[7]</th><th>int16</th><th>float32[7]</th><th>float32[7]</th><th>float32[7]</th><th>float32[7]</th><th>float32[7]</th><th>float32[5]</th><th>float32[7]</th><th>float32</th><th>float32</th><th>float32</th><th>float32</th><th>float64</th><th>float64</th><th>float32[7]</th><th>float32[15,7]</th><th>float32[15,7]</th><th>float32[15,7]</th><th>float32[15,7]</th><th>float32[15,7]</th><th>float32[15,7]</th><th>float32[7]</th><th>float32[7]</th><th>float32[7]</th><th>float32[7]</th><th>float32</th><th>float32</th><th>float32</th><th>float32</th><th>float32[7]</th><th>float32[7]</th><th>float32</th><th>float32</th><th>float32</th><th>float32[7]</th><th>float32[7]</th><th>int32[7]</th><th>int32</th><th>int32</th><th>bytes8</th><th>float32[15]</th><th>float32</th><th>float32</th><th>float32</th><th>float32</th><th>int32</th><th>int32</th><th>int32</th><th>int32</th><th>float32[7]</th><th>float32</th><th>float32</th><th>float32</th><th>float32</th><th>float32</th><th>float32</th><th>float32</th><th>float32</th><th>float32</th><th>float32</th><th>float32</th><th>float32</th><th>float32</th><th>float32</th><th>float32</th><th>float32</th><th>float32</th><th>float32</th><th>float32</th><th>float32</th><th>float32</th><th>float32</th><th>float32</th><th>float32</th><th>float32</th><th>float32</th><th>float32</th><th>float32</th><th>float32</th><th>float32</th><th>float32</th><th>float32</th><th>float32</th><th>float32</th><th>float32</th><th>float32</th><th>float32</th><th>float32</th><th>float32</th><th>float32</th><th>float32</th><th>float32</th><th>float32</th><th>float32</th><th>float32</th><th>float32</th><th>float32</th><th>float32</th><th>float32</th><th>float32</th><th>float32</th><th>float32</th><th>float32</th><th>float32</th><th>float32</th><th>float32</th><th>float32</th><th>float32</th><th>float64</th><th>float64</th><th>float32</th><th>bytes6</th><th>bytes23</th><th>bytes8</th><th>int32</th><th>float64</th><th>float64</th></tr></thead>\n",
       "<tr><td>J094651.40-010228.5</td><td>09h/m00/J094651.40-010228.5</td><td>146.71420878660933</td><td>-1.0412815695754145</td><td>0</td><td>72212</td><td>21157</td><td>-1</td><td>-1</td><td>-1</td><td>15.178774</td><td>0.021222278</td><td>sdss</td><td>0.07</td><td>756</td><td>1</td><td>206</td><td>301</td><td>136.29353</td><td>1095.152</td><td>0.020597626</td><td>0.020687785</td><td>0.00044536332</td><td>0</td><td>29.552263 .. 3251.03</td><td>0.30069932 .. 0.00012297294</td><td>1</td><td>31.202734 .. 3454.6162</td><td>-15.1673565 .. -20.296247</td><td>222.77438 .. 1102.5615</td><td>0.4536473 .. 0.080934174</td><td>-0.006074993 .. 0.019238615</td><td>0.00017146798 .. 2.5712407e-12</td><td>0.00020710815 .. 0.99210894</td><td>2.7482898e-05</td><td>0.30352896</td><td>0.034775626</td><td>8815395000.0</td><td>203.33877563476562</td><td>266.452880859375</td><td>0.3149959 .. 22.908411</td><td>0.3149959 .. 0.0</td><td>233.37904 .. 0.0</td><td>0.06221572 .. -0.057742715</td><td>0.00061461644 .. -0.13205947</td><td>0.88285136 .. 0.7480506</td><td>0.28299746 .. -56.808624</td><td>18.20807 .. 2266.657</td><td>1.9946122 .. 0.015632946</td><td>1.0260136 .. 563.82434</td><td>47.339676 .. 0.3339262</td><td>0.8845921</td><td>15.40155</td><td>0.8016074</td><td>17.53331</td><td>19.459507 .. 3130.742</td><td>1.0776075 .. 0.01723353</td><td>4.7782097</td><td>0.6645174</td><td>16.040314</td><td>-0.035117492 .. 0.007748138</td><td>0.05221656 .. 0.059254237</td><td>0 .. 0</td><td>0</td><td>30</td><td>v2_1_5</td><td>0.22341923 .. 258.39</td><td>7.2478933</td><td>3.4641922</td><td>10.453795</td><td>5.845999</td><td>26600130</td><td>266</td><td>1</td><td>51630</td><td>4.1058846 .. 1.12e-43</td><td>131.86357</td><td>1.6750895</td><td>0.01734476</td><td>0.086800694</td><td>0.0124226315</td><td>269.2588</td><td>17.046213</td><td>2.474215</td><td>0.23574898</td><td>123.141365</td><td>7.7632475</td><td>0.68473977</td><td>584.5531</td><td>13.858368</td><td>5.2918415</td><td>0.2084552</td><td>141.25987</td><td>5.8739424</td><td>294.05807</td><td>13.240504</td><td>2.6620486</td><td>0.16082057</td><td>128.46378</td><td>9.59668</td><td>147.91853</td><td>15.076868</td><td>1.5249467</td><td>0.12158316</td><td>122.40449</td><td>14.56363</td><td>22.092758</td><td>12.022614</td><td>0.20646292</td><td>0.13632269</td><td>103.73506</td><td>30.22204</td><td>-9999.0</td><td>-9999.0</td><td>-9999.0</td><td>-9999.0</td><td>-9999.0</td><td>-9999.0</td><td>112.33277</td><td>12.699974</td><td>1.195764</td><td>0.17837653</td><td>125.590454</td><td>9.01761</td><td>4.145629</td><td>0.39556292</td><td>-0.8991989</td><td>0.43246344</td><td>0.009395278</td><td>0.5594772</td><td>-9999.0</td><td>-9999.0</td><td>0.96117455</td><td>35.6447</td><td>146.7141910489815</td><td>-1.0412763864732957</td><td>0.021222278</td><td>sdss</td><td>legacy</td><td>good</td><td>122</td><td>146.71421</td><td>-1.0413043</td></tr>\n",
       "<tr><td>J094631.60-005917.7</td><td>09h/m00/J094631.60-005917.7</td><td>146.63173520920705</td><td>-0.9883548584122686</td><td>1</td><td>72132</td><td>-1</td><td>-1</td><td>-1</td><td>-1</td><td>18.12335</td><td>0.05265425</td><td>sdss</td><td>0.07</td><td>756</td><td>1</td><td>206</td><td>301</td><td>618.0553</td><td>344.6873</td><td>0.052030597</td><td>0.052030597</td><td>0.0005003469</td><td>1</td><td>5.937189 .. 117.10686</td><td>2.7116714 .. 0.04883515</td><td>1</td><td>5.818742 .. 117.17861</td><td>-15.458004 .. -18.714317</td><td>81.08679 .. 568.131</td><td>0.43238893 .. 0.07714152</td><td>-0.025642741 .. -0.0068317885</td><td>3.529478e-11 .. 4.7585988e-07</td><td>3.0668558e-05 .. 0.8125395</td><td>0.023327291</td><td>0.06884753</td><td>0.020664403</td><td>1583589900.0</td><td>79.9375</td><td>89.643310546875</td><td>0.15526375 .. 0.8952112</td><td>0.15526375 .. 0.0</td><td>454.9598 .. 0.0</td><td>-0.006554106 .. -0.11334504</td><td>0.00026806968 .. -0.032187585</td><td>0.9869664 .. 0.789186</td><td>88.828926 .. -82.073296</td><td>3.443978 .. 137.51616</td><td>8.568999 .. 0.018935598</td><td>0.45930192 .. 31.892025</td><td>115.095764 .. 0.68445855</td><td>0.7651253</td><td>161.06845</td><td>0.59412754</td><td>162.74481</td><td>3.986808 .. 113.16854</td><td>6.9103274 .. 0.107008755</td><td>0.91950214</td><td>0.45471346</td><td>164.1058</td><td>0.018470645 .. -0.0010265708</td><td>0.32469216 .. -0.016755164</td><td>0 .. 0</td><td>0</td><td>36</td><td>v2_1_5</td><td>0.22341923 .. 258.39</td><td>4.7698913</td><td>2.2897646</td><td>5.2029705</td><td>2.8038216</td><td>26600630</td><td>266</td><td>6</td><td>51630</td><td>1.1e-44 .. 0.0008093229</td><td>41.803913</td><td>1.2417903</td><td>0.03935879</td><td>0.4228338</td><td>0.06334799</td><td>79.63688</td><td>4.6382565</td><td>10.780762</td><td>1.0136558</td><td>53.696716</td><td>3.4870718</td><td>0.84784895</td><td>158.23763</td><td>4.2205896</td><td>21.083307</td><td>1.1031191</td><td>51.533344</td><td>2.0600708</td><td>33.259502</td><td>3.634611</td><td>4.4314384</td><td>0.6746483</td><td>45.62845</td><td>6.644905</td><td>47.451176</td><td>6.3951616</td><td>4.9146857</td><td>0.5737447</td><td>56.25411</td><td>8.379909</td><td>7.674392</td><td>3.2292523</td><td>0.97784686</td><td>0.50509477</td><td>44.255222</td><td>28.346481</td><td>111.57335</td><td>13.896584</td><td>15.15305</td><td>3.610634</td><td>45.99403</td><td>9.92913</td><td>40.89481</td><td>5.2624846</td><td>4.2584043</td><td>0.76661664</td><td>25.959152</td><td>6.670042</td><td>-1.3966367</td><td>1.3962288</td><td>-3.96047</td><td>1.4181765</td><td>3.0781476</td><td>1.7761708</td><td>-9999.0</td><td>-9999.0</td><td>0.46189722</td><td>7.586127</td><td>146.6316733254659</td><td>-0.9882606225727443</td><td>0.05265425</td><td>sdss</td><td>legacy</td><td>good</td><td>122</td><td>146.63167</td><td>-0.98827781</td></tr>\n",
       "</table></div>"
      ],
      "text/plain": [
       "<Table length=2>\n",
       "      IAUNAME                  SUBDIR           ...  PLUG_RA    PLUG_DEC \n",
       "      bytes19                 bytes27           ...  float64    float64  \n",
       "------------------- --------------------------- ... --------- -----------\n",
       "J094651.40-010228.5 09h/m00/J094651.40-010228.5 ... 146.71421  -1.0413043\n",
       "J094631.60-005917.7 09h/m00/J094631.60-005917.7 ... 146.63167 -0.98827781"
      ]
     },
     "execution_count": 46,
     "metadata": {},
     "output_type": "execute_result"
    }
   ],
   "source": [
    "table[:2]"
   ]
  },
  {
   "cell_type": "markdown",
   "metadata": {},
   "source": [
    "As we can see, the `Table` read method has parsed that record array and created something similar to the `pandas` display we saw above; column headers with names, and a cleaner interface for viewing the data. We can now filter, if needed. Let'a find all sources within a narrow redshift ($z$) range."
   ]
  },
  {
   "cell_type": "code",
   "execution_count": 50,
   "metadata": {},
   "outputs": [
    {
     "data": {
      "text/plain": [
       "2070"
      ]
     },
     "execution_count": 50,
     "metadata": {},
     "output_type": "execute_result"
    }
   ],
   "source": [
    "filtered = table[(table['Z']>0.02)&(table['Z']<0.021)]\n",
    "len(filtered)"
   ]
  },
  {
   "cell_type": "markdown",
   "metadata": {},
   "source": [
    "Don't worry about the syntax of that filtering yet, if you're unfamiliar, but an english translation might be \"set the variable `filtered` to the table, indexed for rows such that the column `table['Z']` has a value greater than 0.02 and also such that the column `table['Z']` has a value less than 0.021.\" \n",
    "\n",
    "You might be wondering when to use `pandas` vs `astropy.Table`s to work with your data --- in truth, you can convert between them fairly easily, so whichever you are more comfortable with will ultimately be fine.\n",
    "\n",
    ":::{note}\n",
    "One caveat to this is that `pandas` cannot handle \"cells\" with multi-dimensional values, e.g., a row-column position can't have a value of a whole array. Some astronomical tables, *because* `astropy.Tables` can handle this, will store data that way. NSA is an example. Often, however, we only need a few columns, so whichever method we use to read the data in, we can extract those columns, create our own table, and move on.\n",
    ":::"
   ]
  },
  {
   "cell_type": "markdown",
   "metadata": {},
   "source": [
    "## ASDF (Advanced Science Data Format)\n",
    "\n",
    "One new and up-and-coming data storage option is the `asdf` format. It is convenient because it stores data in a tree-like structure that, from the outside, looks exactly like a Python dictionary. This means that when we want to take some data we've been working with and save it to a file, instead of trying to format everything into columns and writing an ascii file, we can simply store things by column name in a dictionary and then drop it straight into the file:"
   ]
  },
  {
   "cell_type": "code",
   "execution_count": null,
   "metadata": {},
   "outputs": [],
   "source": [
    "import asdf\n",
    "from asdf import AsdfFile\n",
    "import numpy as np\n",
    "\n",
    "tree = {\n",
    "    'a': np.arange(0, 10),\n",
    "    'b': np.arange(10, 20)\n",
    "}\n",
    "\n",
    "target = AsdfFile(tree)\n",
    "target.write_to('target.asdf')"
   ]
  },
  {
   "cell_type": "markdown",
   "metadata": {},
   "source": [
    "As we can see, any arrays we are working with we can name, drop into the tree dictionary, and ultimately write to the file. We can also add metadata -- either directly into the tree, or into a metadata dictionary which then gets added to the tree. Opening an `asdf` file is also simple:"
   ]
  },
  {
   "cell_type": "code",
   "execution_count": null,
   "metadata": {},
   "outputs": [],
   "source": [
    "with asdf.open(\"example.asdf\") as af:\n",
    "    tree = af.tree"
   ]
  },
  {
   "cell_type": "markdown",
   "metadata": {},
   "source": [
    "This \\code{tree} attribute contains the dictionary we saved above, so everything pops right back out. \n",
    "\n",
    "There's a lot more to `asdf` in terms of motivation and capability, but for our purposes at present, the important part is knowing how to pack and save, then open and unpack, data with this format. \n",
    "\n",
    "## HDF5 (Hierarchical Data Format 5)\n",
    "\n",
    "The `hdf5` format is another new, semi-popular file standard. It structures its interior like a full file directory system, with \"folders\" and \"files\". To deal with `hdf5` files in Python, we need to use the `h5py` package, which handles the I/O operation for us. "
   ]
  },
  {
   "cell_type": "code",
   "execution_count": null,
   "metadata": {},
   "outputs": [],
   "source": [
    "import h5py\n",
    "\n",
    "f = h5py.File('example.hdf5', 'r') \n",
    "data_keys = list(f.keys())"
   ]
  },
  {
   "cell_type": "markdown",
   "metadata": {},
   "source": [
    "From here, things will change depending on the file --- HDF5 stores things in \"datasets,\" whose names will appear in that list of keys we just accessed. Assuming our example file key list had \"dataset1\" as one of the keys, we would then have"
   ]
  },
  {
   "cell_type": "code",
   "execution_count": null,
   "metadata": {},
   "outputs": [],
   "source": [
    "dataset1 = f['dataset1']"
   ]
  },
  {
   "cell_type": "markdown",
   "metadata": {},
   "source": [
    "This dataset would be an object similar to, but not exactly, a `numpy` array. This object can be indexed and sliced like a `numpy` array. For many frameworks, however, it is beneficial to extract and convert these datasets into `numpy` before continuing further.\n",
    "\n",
    ":::{tip}\n",
    "More on datasets can be found here: https://docs.h5py.org/en/stable/high/dataset.html#dataset\n",
    ":::\n",
    "\n"
   ]
  }
 ],
 "metadata": {
  "kernelspec": {
   "display_name": "Python 3 (ipykernel)",
   "language": "python",
   "name": "python3"
  },
  "language_info": {
   "codemirror_mode": {
    "name": "ipython",
    "version": 3
   },
   "file_extension": ".py",
   "mimetype": "text/x-python",
   "name": "python",
   "nbconvert_exporter": "python",
   "pygments_lexer": "ipython3",
   "version": "3.10.9"
  },
  "vscode": {
   "interpreter": {
    "hash": "a2541231b5d29ba5d0f5fa4ae067ef2c0363ea20c82433c289707e16641c1459"
   }
  }
 },
 "nbformat": 4,
 "nbformat_minor": 4
}
