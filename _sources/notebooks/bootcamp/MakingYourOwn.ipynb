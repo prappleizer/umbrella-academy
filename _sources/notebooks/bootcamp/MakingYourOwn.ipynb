{
 "cells": [
  {
   "cell_type": "markdown",
   "id": "f63e32b9-6b9c-4a19-9a30-b9d3f0f9086a",
   "metadata": {
    "user_expressions": []
   },
   "source": [
    "# Making your own packages (and installing them!)\n",
    "\n",
    "Thus far, you have likely only `pip` installed other people's packages. But did you know you can do that for your own code as well? \n",
    "\n",
    "Throughout this summer, and your research career, you will write useful code (functions, classes) which you'll use again and again. Instead of tracking down some old python file, copying that function, and pasting it into our new code each time (ouch), in this walkthrough, you'll learn how to make your small collections of functions a **python package**, so that you can pip install it on your own computer and import it any time you like! This has several benefits. \n",
    "\n",
    "- no copying and pasting and tracking down old files \n",
    "- there's now *one* definative versino of the function. When you change/improve it, you don't have to do so multiple times\n",
    "- can simply `import myfunc` in your scripts\n",
    "- makes it easier to git-backup (next notebook) and distribute to others \n",
    "\n"
   ]
  },
  {
   "cell_type": "markdown",
   "id": "a2f8f8f5-f54a-4b10-9813-a593914a4d50",
   "metadata": {
    "user_expressions": []
   },
   "source": [
    ":::{admonition} _Exercise 1: Make a folder_\n",
    "\n",
    "First, we need a folder to house not just this code, but also any software that we are downloading/creating and working with the code base directly. I recommend putting this in your home directory, or if you use Dropbox or similar, within that directory. Call it something like `Software` or `git` (since eventually this will be a git repo). It is very handy to keep all software of this kind in one place.\n",
    "\n",
    "Once you've made your overall software folder, make a folder inside it. For the purposes of this walkthrough, I'm going to be calling our mini-package `myutils`, as a collection or assortment of utility functions useful to us. You can call yours whatever you like. **Inside  THAT**, make *another* folder, with the same name (or you can make the outer one slightly different).\n",
    "\n",
    "*Expert move: Do this from the shell command line. You can even make both folders with one line! It would look like this:*\n",
    "```bash\n",
    "mkdir ~/Software; mkdir ~/Software/MyUtils; mkdir ~/Software/MyUtils/myutils\n",
    "```\n",
    ":::"
   ]
  },
  {
   "cell_type": "markdown",
   "id": "785de1be-03c2-4e34-a8da-937fbc5dfb5a",
   "metadata": {
    "user_expressions": []
   },
   "source": [
    "Once we have our folder, we are ready to start structuring our package. \n",
    "\n",
    "The innermost folder, the one I've named `myutils`, is where the code is going to live. Outside it, in `MyUtils` is where my setup file, readme, license, documentation if any, etc. will live.\n",
    "\n",
    "In Python, every python file or folder of python files is implicitly a module. If we have two python files, `a.py` and `b.py` in the same directory, and file `a.py` contains a function `foo`, I could open file `b.py` with `import foo` and it would work.\n",
    "\n",
    "To go the extra mile of installing `a.py` and `b.py` such that we could import `foo` *anywhere*, we'll need to add a couple of things. \n"
   ]
  },
  {
   "cell_type": "markdown",
   "id": "37bca3ad-628c-4e8a-a102-b97aba2cfc08",
   "metadata": {
    "user_expressions": []
   },
   "source": [
    ":::{admonition} _Exercise 2: Init_\n",
    "\n",
    "Make an empty file called `__init__.py` in your `myutils` (innermost) directory. \n",
    "\n",
    "*Expert Move: Do this from the shell/command line. You can do so in one line:*\n",
    "```bash\n",
    "cd ~/Software/MyUtils/myutils; touch __init__.py\n",
    "```\n",
    ":::"
   ]
  },
  {
   "cell_type": "markdown",
   "id": "a13f970b-9eb2-4289-bc83-5fcb01987a25",
   "metadata": {
    "user_expressions": []
   },
   "source": [
    "The `__init__.py` file we created above tells python and its installers that this is a package. As packages get more complicated, you will start adding things into your init files, but for the purposes of this exercise, you don't need to! It can simply be an empty placeholder file. \n",
    "\n",
    "We're now ready to add some code! For this walkthough, I'll use the `implot()` function you would have made at the end of the Astronomical Imaging tutorial. \n"
   ]
  },
  {
   "cell_type": "markdown",
   "id": "cda4967b-a94f-4f15-93b8-fa86f5f3a39b",
   "metadata": {
    "user_expressions": []
   },
   "source": [
    ":::{admonition} _Exercise 3: Add Implot_\n",
    "\n",
    "Create a file `plotting.py` in your `myutils` (innermost) folder. Open it. From the `Astronomical Imaging` walkthrough, grab your `implot()` function, and any library imports needed to make it work. Copy it into this file. \n",
    "\n",
    "*If you didn't do that lab, here is a simple version you can use*: \n",
    "\n",
    "```python\n",
    "def implot(im,scale=1.0):\n",
    "    m = np.mean(im)\n",
    "    s = np.std(im)\n",
    "    vmin=m-s*scale; vmax=m+s*scale\n",
    "    fig,ax=plt.subplots(figsize=(15,10))\n",
    "    ax.imshow(im,origin='lower',cmap='gray',vmin=vmin,vmax=vmax)\n",
    "    return fig, ax\n",
    "```\n",
    ":::"
   ]
  },
  {
   "cell_type": "markdown",
   "id": "a7675fa9-b7d6-4f62-860f-bf5d90bbf131",
   "metadata": {
    "user_expressions": []
   },
   "source": [
    "Great! Now we have a package with some useful code in it! Let's try to install it. For that, we'll need to add a simple `setup.py` function to our *outer* directory.\n"
   ]
  },
  {
   "cell_type": "markdown",
   "id": "cc385431-553a-4c78-872e-146e1e9dab9b",
   "metadata": {
    "user_expressions": []
   },
   "source": [
    ":::{admonition} _Exercise 4: Setup.py_\n",
    "\n",
    "In your `MyUtils` (outer) directory, create a file called `setup.py`. Inside, add the following:\n",
    "```python\n",
    "import setuptools\n",
    "\n",
    "setuptools.setup(\n",
    "    name=\"myutils\",\n",
    "    version=\"0.1\",\n",
    "    author=\"Your Name\",\n",
    "    author_email=\"Your email\",\n",
    "    description=\"A small example Python package\",\n",
    "    packages=[\"myutils\"]\n",
    ")\n",
    "```\n",
    "Replace the strings with things relevant to you.\n",
    ":::"
   ]
  },
  {
   "cell_type": "markdown",
   "id": "a7f83fb9-8c8c-4c15-815c-e313fb3d2961",
   "metadata": {
    "user_expressions": []
   },
   "source": [
    "Believe it or not, we're done! Packaging code can obviously get more complicated --- in particular, you may want the added organizational benefit of subfolders inside `myutils`. This creates a bit more complexity, as these are considered sub-packages and need their own `__init__` files, and need to be specified in the `setup.py` file. \n",
    "\n",
    "Ultimately, though, the structure we've made here will serve you for a while! If you have new things to add to your utils that aren't about plotting, make a new file next to `plotting.py` (like, e.g., `analysis.py`) and add your code there. \n",
    "\n",
    ":::{admonition} _Exercise 5: Install!_\n",
    "\n",
    "We're ready to install your code! I recommend installing in *development mode*, which tells your path to point to this location where you've been editing (rather than copying to the `site-packages` directory elsewhere). The advantage is that if you add/edit your package, you don't need to *reinstall* it to access the changes, just restart any python kernels or interpreters and re-import (or use the `reload` module). \n",
    "\n",
    "Navigate your shell to the outer `MyUtils` folder (the one with your `setup.py`) and type\n",
    "```bash\n",
    "pip install -e .\n",
    "```\n",
    "\n",
    "This should insall your package! Try opening a new shell, opening ipython, and typing \n",
    "\n",
    "```python\n",
    "from myutils.plotting import implot\n",
    "```\n",
    "\n",
    "Did it work?\n",
    ":::\n"
   ]
  }
 ],
 "metadata": {
  "kernelspec": {
   "display_name": "Python 3 (ipykernel)",
   "language": "python",
   "name": "python3"
  },
  "language_info": {
   "codemirror_mode": {
    "name": "ipython",
    "version": 3
   },
   "file_extension": ".py",
   "mimetype": "text/x-python",
   "name": "python",
   "nbconvert_exporter": "python",
   "pygments_lexer": "ipython3",
   "version": "3.10.9"
  }
 },
 "nbformat": 4,
 "nbformat_minor": 5
}
