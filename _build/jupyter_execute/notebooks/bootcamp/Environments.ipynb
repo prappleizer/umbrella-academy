{
 "cells": [
  {
   "cell_type": "markdown",
   "id": "e90b6c10-2a3b-4918-9427-9b82a49e8e66",
   "metadata": {
    "user_expressions": []
   },
   "source": [
    "# Environments \n",
    "\n",
    "Safe, longevity-inspiring code is written in an `environment`. Why? \n",
    "\n",
    "Primarily, it is because software is always evolving, and both the language (Python) and packages (python codes) have new versions released nearly-continuously. Because of this, it is important to track for a given code *you* are writing which versions of Python and associated packages are compatible with your code, so that in the future, you know you can create such an environment again and your code will *work*. \n",
    "\n",
    "As discussed in the `Installation` guide, we are using `conda` as our environment manager. What `conda` allows us to do is create isolated \"buckets,\" with a particular version of Python and a particular set of packages (of particular versions) installed. These buckets are isolated from one another; when you install a package in one environment, it won't be in the others. \n",
    "\n",
    ":::{note}\n",
    "It is always a good idea to create a *new* environment when you are starting a new research project, installing a particularly complex code that has a lot of dependencies, or developing your own piece of software.\n",
    ":::\n",
    "\n",
    "\n",
    "You should by now have `miniconda` installed, meaning you are ready to create an environment and install python. Let's do it!\n",
    ":::{tip} _Exercise One: Make an Environment_\n",
    "\n",
    "\n",
    "In your shell/terminal (Terminal on Mac, Ubuntu on WSL), write \n",
    "\n",
    "```{code-block} bash\n",
    "conda create -n YOURNAMEHERE python=3.11 numpy scipy matplotlib astropy pandas jupyterlab ipython ipykernel nb_conda_kernels\n",
    "```\n",
    "**replacing** the YOURNAMEHERE with the name you want to give this environment (good choices are `research` or `umbrella` or `bootcamp` or something to do with your summer project. \n",
    ":::\n",
    "\n",
    "When you run this, you will eventually get a prompt asking for a `Y/n` input; type `Y` and hit enter. \n",
    "\n",
    "What this commmand does is create a new environment with the name you give it. We've specifically told it to use Python 3.11. We've also given it a list of packages that can be installed via conda; I chose these because they are universally useful in astronomy and we will need them anyway. You *can* specify their versions here, as we did for python, but for now, we just want the latest versions. \n",
    "\n",
    ":::{tip} _Exercise Two: Activate Your Environment_\n",
    "\n",
    "\n",
    "Once your environment is created, you'll see instructions for \"activating\" it. Follow them, e.g.,\n",
    "\n",
    "```{code-block} bash\n",
    "conda activate myenvironment\n",
    "```\n",
    "where you enter your environments name. \n",
    "\n",
    "Once inside the environment, you should see its name on the left hand side of your terminal prompt, in parenthesis. Lets install a few more things, but this time, using `pip`, the standard python package installer\n",
    "```{code-block} bash\n",
    "pip install tqdm \n",
    "pip install astroquery\n",
    "```\n",
    ":::\n",
    "\n",
    ":::{important} Conda vs. Pip installs\n",
    "When do we install a package using `conda`, and when do we use `pip`? This is a bit messy, but in general, I suggest checking first if a conda version of the package is available. If it is, try installing via `conda` first. If not, or if that fails, then fall back on using `pip` (*Inside your environment of course!*). Using `pip` inside an environment will still mean you are only installing to that environment, but some of `conda`'s ways of measuring package dependencies and compatibility don't extend to things installed with `pip`. Generally, we create environments with the \"big things\" installed with conda (as above), then install smaller, or pip-only things, inside with pip.\n",
    ":::\n"
   ]
  },
  {
   "cell_type": "markdown",
   "id": "cd8dae73-3213-4736-9562-6fad56d23007",
   "metadata": {
    "user_expressions": []
   },
   "source": [
    "You've made it to the end of Environments! To summarize our main points:\n",
    "\n",
    "- *Environments* allow us to create isolated buckets in which to install packages (and versions of python)\n",
    "- This is useful, as packages can often conflict with one another, or require a specific version\n",
    "- We should make *new* environments for each research project we start, along with perhaps a base 'research' env. \n",
    "- Creating envs is easy with `conda create`, we start off with a set of packages we always need, then `activate` our env to jump inside it, `pip` install anything else we need, and then are off to the races!"
   ]
  }
 ],
 "metadata": {
  "kernelspec": {
   "display_name": "Python 3 (ipykernel)",
   "language": "python",
   "name": "python3"
  },
  "language_info": {
   "codemirror_mode": {
    "name": "ipython",
    "version": 3
   },
   "file_extension": ".py",
   "mimetype": "text/x-python",
   "name": "python",
   "nbconvert_exporter": "python",
   "pygments_lexer": "ipython3",
   "version": "3.10.9"
  }
 },
 "nbformat": 4,
 "nbformat_minor": 5
}