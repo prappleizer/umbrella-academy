{
 "cells": [
  {
   "cell_type": "markdown",
   "metadata": {},
   "source": [
    "# A Crash Course in Scientific Computing \n",
    "\n",
    "Over the course of these notebooks, we'll be discussing everything you nee to know to get up and running with modern scientific research in astronomy. We'll cover\n",
    "- UNIX environments and how to install python and associated packages in conda enviornments (and why)\n",
    "- Basic python and writing reproducible code\n",
    "- Maintaining and versioning you work with Github "
   ]
  },
  {
   "cell_type": "markdown",
   "metadata": {
    "user_expressions": []
   },
   "source": [
    "## Prerequisites\n",
    "\n",
    "Before diving into the notebook, there are a few things you should set up before hand. These vary somewhat by operating system.\n",
    "\n",
    "### MacOS \n",
    "\n",
    "To set up a Mac computer for scientific programming, you'll want to install the following: \n",
    "\n",
    "1. `X-code developer command line tools`. The easiest way to get this is to install the *next* tool, which will prompt this to install during the process. \n",
    "2. `Homebrew`. This is a software manager that has several packages you'll need on your system. You can check if you already have these installed by opening the `Terminal` app and typing `brew`. If the command is not found, you'll need to install it. To do so, go to [this site](https://brew.sh) and copy the link, which will look like \n",
    "```\n",
    "/bin/bash -c \"$(curl -fsSL https://raw.githubusercontent.com/Homebrew/install/HEAD/install.sh)\"\n",
    "```\n",
    "You can run this in your open terminal to install brew and x-code cli tools. \n",
    "\n",
    "If you have an Intel chip mac, this step is now done, otherwise, on M1+ macs, you'll need to add the location of the brew files to your `PATH.`\n",
    "\n",
    ":::{note}\n",
    "Your `PATH` is a set of folders on your computer that the shell/terminal knows to look in when searching for executable code to run. When you type a program name into your shell (like `brew`), the files associated with running brew must be in your `PATH` in order to be found and run. *Most of the time,* software we install will automatically add itself to our path, or will install in a location that is in our `PATH`. So we normally don't have to worry about this. \n",
    ":::\n",
    "\n",
    "To add the brew install path to your `PATH`, run the following two lines in your shell:\n",
    "\n",
    "```\n",
    "echo 'eval \"$(/opt/homebrew/bin/brew shellenv)\"' >> ~/.zprofile\n",
    "eval \"$(/opt/homebrew/bin/brew shellenv)\"\n",
    "```\n",
    "\n",
    ":::{tip}\n",
    "Here, we are using shell commands: `echo` (which just prints the string after it) and `>>`, which writes that to a file provided after, which in this case is your shell's profile, stored in your home directory (which `~` is shorthand for). We'll talk more about profiles later.\n",
    ":::\n",
    "\n"
   ]
  },
  {
   "cell_type": "markdown",
   "metadata": {
    "user_expressions": []
   },
   "source": [
    "After this, you should be able to restart your terminal, and when you type `brew`, it should not warn about the command not being found. As a note, this guide assumes you are using a new enough computer that `zshell` is your default shell, rather than something like `bash`. Talk to me if you run into issues. \n",
    "\n",
    "3. `Conda.` Now that we have brew and CLI tools, we need to install python, with a package manager. There are several out there, but in the astrophysics community, the overwhelming majority use the `miniconda` distribution to manage python and python environments. We'll do that here as well, as that will then translate to other software installation guides you come across. To install it, head over to the [Miniconda Website](https://docs.conda.io/en/latest/miniconda.html) and choose the installer for your operating system.\n",
    ":::{warning}\n",
    "In the past, I have found that installing via the `pkg` installer places files in a different, more annoying location. I recommend instead downloading the `bash` version for your OS/computer type. Then, you can use the shell `cd` command to, e.g., `cd ~/Downloads`, then run, e.g., \n",
    "```\n",
    "bash Miniconda3-py310_23.3.1-0-MacOSX-x86_64.sh\n",
    "```\n",
    "and follow the instructions. I recommend accepting all of the suggested locations and defaults.\n",
    "\n"
   ]
  },
  {
   "cell_type": "markdown",
   "metadata": {
    "user_expressions": []
   },
   "source": [
    "Great! We now have a working set of command line tools, and `conda` to help us manage python and its environments. We'll cover that in the next section. "
   ]
  },
  {
   "cell_type": "markdown",
   "metadata": {
    "user_expressions": []
   },
   "source": [
    "### Windows \n",
    "\n",
    "Windows itself is not particularly conducive to scientific computing, and you will struggle trying to use a Windows OS for research purposes. Luckily, Windows now supports something called `WSL`, or `Windows Subsystem Linux`, which allows you to install a linux distribution directly on your Windows machine. When using WSL, you will essentially be using Linux, for which most scientific programs are written, and will be able to mirror all the conda environment and coding paths needed for your research. \n",
    "\n",
    "To get it installed, simply open a `Windows Powershell` and type:\n",
    "\n",
    "```\n",
    "wsl --install\n",
    "```\n",
    "which will install the latest distribution of `Ubuntu`, which is fine to use as a linux distribution for our purposes. \n",
    "\n",
    "Once you have installed WSL, you will need to create a user account and password for your newly installed Linux distribution --- it is basically like a second mini operating system, with its own username/password and filesystem. Follow the instructions and select a username and password (these need not be the same as for your PC). \n",
    "\n",
    ":::{note}\n",
    "When you are setting (or entering) passwords in terminals, here included, generally nothing shows up as you type. This is for security, just be careful while typing and hit enter to submit.\n",
    ":::\n",
    "\n",
    "\n",
    "Once you have wsl installed, you should have a program on your computer which is an `Ubuntu Shell`. When you open it, you'll have a terminal, but this is not a windows powershell, it is in fact UNIX-like and is accessing your new WSL distribution. It is recommended to start out by upgrading all default installed packages via \n",
    "\n",
    "```\n",
    "sudo apt update && sudo apt upgrade\n",
    "```\n",
    "\n",
    "After that, you're ready to install `miniconda`, which is the python + package distribution manager we'll be using. \n",
    "\n",
    "There are several out there, but in the astrophysics community, the overwhelming majority use the `miniconda` distribution to manage python and python environments. We'll do that here as well, as that will then translate to other software installation guides you come across. To install it, open up your Ubuntu shell and type\n",
    "\n",
    "```\n",
    "curl -sL \"https://repo.anaconda.com/miniconda/Miniconda3-latest-Linux-x86_64.sh\" > \"Miniconda3.sh\"\n",
    "```\n",
    "Followed by \n",
    "```\n",
    "bash Miniconda3.sh\n",
    "```\n",
    "\n",
    "I would accept all the default suggestions. "
   ]
  },
  {
   "cell_type": "code",
   "execution_count": null,
   "metadata": {},
   "outputs": [],
   "source": []
  }
 ],
 "metadata": {
  "kernelspec": {
   "display_name": "Python 3 (ipykernel)",
   "language": "python",
   "name": "python3"
  },
  "language_info": {
   "codemirror_mode": {
    "name": "ipython",
    "version": 3
   },
   "file_extension": ".py",
   "mimetype": "text/x-python",
   "name": "python",
   "nbconvert_exporter": "python",
   "pygments_lexer": "ipython3",
   "version": "3.10.9"
  }
 },
 "nbformat": 4,
 "nbformat_minor": 4
}